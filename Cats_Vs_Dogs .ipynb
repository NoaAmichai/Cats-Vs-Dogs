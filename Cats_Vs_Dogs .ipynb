{
 "cells": [
  {
   "cell_type": "code",
   "execution_count": 18,
   "id": "6e7aab06",
   "metadata": {},
   "outputs": [],
   "source": [
    "import pandas as pd\n",
    "import numpy as np\n",
    "import matplotlib.pyplot as plt\n",
    "import matplotlib_inline\n",
    "import os\n",
    "import warnings\n",
    "warnings.filterwarnings('ignore')\n",
    "from tqdm import tqdm\n",
    "import seaborn as sns\n",
    "from PIL import Image\n",
    "from numpy import asarray\n",
    "\n",
    "np.set_printoptions(precision=5)#show 5 number after decimal point "
   ]
  },
  {
   "cell_type": "code",
   "execution_count": 38,
   "id": "94a7e541",
   "metadata": {},
   "outputs": [],
   "source": [
    "from sklearn.metrics import classification_report\n",
    "from sklearn import metrics\n",
    "from sklearn.metrics import accuracy_score, precision_score, recall_score\n",
    "from sklearn.model_selection import cross_val_score\n",
    "from sklearn.model_selection import KFold\n",
    "from sklearn.decomposition import PCA\n",
    "from sklearn.model_selection import RandomizedSearchCV\n",
    "from sklearn.ensemble import GradientBoostingClassifier\n",
    "from sklearn.ensemble import AdaBoostClassifier\n",
    "from xgboost import XGBClassifier\n",
    "from sklearn.feature_selection import SelectKBest\n",
    "from sklearn.metrics import confusion_matrix\n",
    "from xgboost import XGBClassifier\n",
    "from sklearn.model_selection import train_test_split\n",
    "from sklearn.dummy import DummyClassifier\n",
    "from sklearn.ensemble import RandomForestClassifier\n",
    "from sklearn.linear_model import LogisticRegression\n",
    "from sklearn.metrics import accuracy_score, precision_score, recall_score\n"
   ]
  },
  {
   "cell_type": "code",
   "execution_count": 20,
   "id": "a1ac6ea7",
   "metadata": {},
   "outputs": [],
   "source": [
    "url = r\"train\\\\\""
   ]
  },
  {
   "cell_type": "code",
   "execution_count": 21,
   "id": "34035f0a",
   "metadata": {},
   "outputs": [],
   "source": [
    "def create_data():\n",
    "    data = list()\n",
    "    label = 0 #cat = 1 , dog = 0\n",
    "    for img in tqdm(os.listdir(url)):\n",
    "        if img.startswith('cat'): label = 1 \n",
    "        else :label = 0 \n",
    "        im = asarray(Image.open(url+img).resize((55,55)).convert('L')) #resize and changing colors\n",
    "        data.append([im,label])\n",
    "    np.save('data.npy', data)\n",
    "    return data"
   ]
  },
  {
   "cell_type": "code",
   "execution_count": 25,
   "id": "9e010216",
   "metadata": {},
   "outputs": [
    {
     "name": "stderr",
     "output_type": "stream",
     "text": [
      "100%|███████████████████████████████████████████████████████████████████████████| 25000/25000 [03:42<00:00, 112.35it/s]\n"
     ]
    }
   ],
   "source": [
    "data = create_data()"
   ]
  },
  {
   "cell_type": "code",
   "execution_count": 22,
   "id": "80add8ac",
   "metadata": {
    "slideshow": {
     "slide_type": "-"
    }
   },
   "outputs": [],
   "source": [
    "# load the data:\n",
    "data = np.load('data.npy',allow_pickle=True)"
   ]
  },
  {
   "cell_type": "code",
   "execution_count": 23,
   "id": "c48d9ccc",
   "metadata": {},
   "outputs": [],
   "source": [
    "X = (np.array([i[0] for i in data]))\n",
    "Y = (np.array([i[1] for i in data]))"
   ]
  },
  {
   "cell_type": "code",
   "execution_count": 24,
   "id": "f0e9d816",
   "metadata": {},
   "outputs": [],
   "source": [
    "X = X /255.0"
   ]
  },
  {
   "cell_type": "code",
   "execution_count": 25,
   "id": "5f9acdb7",
   "metadata": {},
   "outputs": [
    {
     "data": {
      "text/plain": [
       "(25000, 55, 55)"
      ]
     },
     "execution_count": 25,
     "metadata": {},
     "output_type": "execute_result"
    }
   ],
   "source": [
    "X.shape"
   ]
  },
  {
   "cell_type": "code",
   "execution_count": 26,
   "id": "611e03a1",
   "metadata": {},
   "outputs": [
    {
     "data": {
      "text/plain": [
       "Text(0.5, 1.0, 'DOG')"
      ]
     },
     "execution_count": 26,
     "metadata": {},
     "output_type": "execute_result"
    },
    {
     "data": {
      "image/png": "[encoded data removed]",
      "text/plain": [
       "<Figure size 720x504 with 2 Axes>"
      ]
     },
     "metadata": {
      "needs_background": "light"
     },
     "output_type": "display_data"
    }
   ],
   "source": [
    "fig = plt.figure(figsize=(10, 7))\n",
    "  \n",
    "fig.add_subplot(1, 2, 1)\n",
    "plt.imshow(X[1,:], cmap=plt.get_cmap('gray'))\n",
    "plt.title(\"CAT\")\n",
    "\n",
    "fig.add_subplot(1, 2, 2)\n",
    "plt.imshow(X[24999,:], cmap=plt.get_cmap('gray'))\n",
    "plt.title(\"DOG\")"
   ]
  },
  {
   "cell_type": "code",
   "execution_count": 27,
   "id": "3e3e0d5f",
   "metadata": {},
   "outputs": [
    {
     "data": {
      "text/plain": [
       "(25000, 3025)"
      ]
     },
     "execution_count": 27,
     "metadata": {},
     "output_type": "execute_result"
    }
   ],
   "source": [
    "X = X.reshape((25000, 55*55))\n",
    "X.shape"
   ]
  },
  {
   "cell_type": "code",
   "execution_count": 28,
   "id": "d45723a3",
   "metadata": {},
   "outputs": [],
   "source": [
    "#split the data to train and test \n",
    "X_train, X_test, y_train, y_test = train_test_split(X,Y, test_size=0.1, random_state=42)"
   ]
  },
  {
   "cell_type": "code",
   "execution_count": 29,
   "id": "1d0c8a8c",
   "metadata": {},
   "outputs": [],
   "source": [
    "#split the train\n",
    "X_train, X_val, y_train, y_val = train_test_split(X_train,y_train, test_size=0.1, random_state=42)"
   ]
  },
  {
   "cell_type": "code",
   "execution_count": 30,
   "id": "667ea03c",
   "metadata": {},
   "outputs": [
    {
     "name": "stdout",
     "output_type": "stream",
     "text": [
      "The DummyClassifier score is: 0.503\n"
     ]
    }
   ],
   "source": [
    "# Before we try real models, we will try a dummyClassifier. we will try to get high score than the dummyModel.\n",
    "\n",
    "dummy_clf = DummyClassifier(strategy=\"most_frequent\", random_state=42)\n",
    "dummy_clf.fit(X_train, y_train)\n",
    "y_pred = dummy_clf.predict(X_val)\n",
    "print(\"The DummyClassifier score is:\" ,round(accuracy_score(y_pred,y_val),3))"
   ]
  },
  {
   "cell_type": "markdown",
   "id": "988c3bf8",
   "metadata": {},
   "source": [
    "## *Models :*\n"
   ]
  },
  {
   "cell_type": "markdown",
   "id": "9a22b586",
   "metadata": {},
   "source": [
    "### Feature selection: "
   ]
  },
  {
   "cell_type": "raw",
   "id": "fa6d8423",
   "metadata": {},
   "source": [
    "from sklearn.feature_selection import SelectKBest\n",
    "from sklearn.feature_selection import chi2\n",
    "from xgboost import XGBClassifier\n",
    "\n",
    "scores = [] \n",
    "for i in range(2000,3000,150):\n",
    "    X_new = SelectKBest(chi2, k=i).fit_transform(X_train, y_train)\n",
    "    X_train_new, X_val_new, y_train_new, y_val_new = train_test_split(X_new,y_train, test_size=0.1, random_state=42)\n",
    "    XGB = XGBClassifier(objective=\"binary:logistic\", random_state=42)\n",
    "    XGB.fit(X_train_new, y_train_new, eval_metric='auc')\n",
    "    y_predict = XGB.predict(X_val_new)\n",
    "    accuracy = round(metrics.accuracy_score(y_val_new, y_predict),3)\n",
    "    print(\"number of features : \", i, \", Accuracy:\", accuracy)\n",
    "    scores.append(accuracy)"
   ]
  },
  {
   "cell_type": "markdown",
   "id": "4ed8322d",
   "metadata": {},
   "source": [
    ">The best score of the model was with 2150 feature - We will use this number of features for the other models as well."
   ]
  },
  {
   "cell_type": "raw",
   "id": "92349d72",
   "metadata": {},
   "source": [
    "X_new = SelectKBest(chi2, k=2150).fit_transform(X_train, y_train)"
   ]
  },
  {
   "cell_type": "raw",
   "id": "8218518c",
   "metadata": {},
   "source": [
    "X_val_new = SelectKBest(chi2,k=2150).fit_transform(X_val,y_val)"
   ]
  },
  {
   "cell_type": "code",
   "execution_count": 73,
   "id": "ec4b240e",
   "metadata": {},
   "outputs": [
    {
     "data": {
      "text/plain": [
       "(20250, 3025)"
      ]
     },
     "execution_count": 73,
     "metadata": {},
     "output_type": "execute_result"
    }
   ],
   "source": [
    "X_train.shape"
   ]
  },
  {
   "cell_type": "raw",
   "id": "507f499f",
   "metadata": {},
   "source": [
    "X_val_new.shape"
   ]
  },
  {
   "cell_type": "markdown",
   "id": "eb847fcf",
   "metadata": {},
   "source": [
    "### *Random Forest Classifier :*"
   ]
  },
  {
   "cell_type": "code",
   "execution_count": 74,
   "id": "ee052414",
   "metadata": {},
   "outputs": [
    {
     "name": "stdout",
     "output_type": "stream",
     "text": [
      "Accuracy: 0.642\n",
      "CPU times: total: 4min 6s\n",
      "Wall time: 4min 7s\n"
     ]
    }
   ],
   "source": [
    "%%time\n",
    "\n",
    "RF = RandomForestClassifier(random_state=42)\n",
    "RF.fit(X_train, y_train)\n",
    "y_pred_RF = RF.predict(X_val)\n",
    "accuracy = round(metrics.accuracy_score(y_pred_RF,y_val),3)\n",
    "print(\"Accuracy:\", accuracy)"
   ]
  },
  {
   "cell_type": "code",
   "execution_count": 75,
   "id": "632d6eec",
   "metadata": {
    "scrolled": true
   },
   "outputs": [
    {
     "name": "stdout",
     "output_type": "stream",
     "text": [
      "0.636\n",
      "CPU times: total: 6min 21s\n",
      "Wall time: 6min 22s\n"
     ]
    }
   ],
   "source": [
    "%%time\n",
    "\n",
    "kf= KFold(n_splits=3, random_state=42, shuffle=True)\n",
    "RForest = RandomForestClassifier(random_state=42)\n",
    "random_forest= cross_val_score(RForest, X_new,y_train, cv=kf, scoring='accuracy').mean()\n",
    "print(round(random_forest,3))"
   ]
  },
  {
   "cell_type": "markdown",
   "id": "b6fe7e35",
   "metadata": {},
   "source": [
    "### *XGB Classifier:*"
   ]
  },
  {
   "cell_type": "code",
   "execution_count": 76,
   "id": "696a8858",
   "metadata": {},
   "outputs": [
    {
     "name": "stdout",
     "output_type": "stream",
     "text": [
      "Accuracy: 0.669\n",
      "CPU times: total: 20min 15s\n",
      "Wall time: 3min 1s\n"
     ]
    }
   ],
   "source": [
    "%%time\n",
    "\n",
    "XGBoost = XGBClassifier(objective=\"binary:logistic\", random_state=42)\n",
    "XGBoost.fit(X_train, y_train, eval_metric='auc')\n",
    "y_pred_XGB = XGBoost.predict(X_val)\n",
    "\n",
    "accuracy = round(metrics.accuracy_score(y_val, y_pred_XGB),3)\n",
    "print(\"Accuracy:\", accuracy)"
   ]
  },
  {
   "cell_type": "code",
   "execution_count": 77,
   "id": "381b2235",
   "metadata": {},
   "outputs": [
    {
     "name": "stdout",
     "output_type": "stream",
     "text": [
      "[8.62666e-05 0.00000e+00 2.21149e-04 ... 4.92497e-04 5.31248e-04\n",
      " 1.47759e-03]\n"
     ]
    },
    {
     "data": {
      "image/png": "[encoded data removed]",
      "text/plain": [
       "<Figure size 432x288 with 1 Axes>"
      ]
     },
     "metadata": {
      "needs_background": "light"
     },
     "output_type": "display_data"
    }
   ],
   "source": [
    "print(XGBoost.feature_importances_)\n",
    "# plot\n",
    "pyplot.bar(range(len(XGBoost.feature_importances_)), XGBoost.feature_importances_)\n",
    "pyplot.show()"
   ]
  },
  {
   "cell_type": "code",
   "execution_count": 79,
   "id": "58b30ccc",
   "metadata": {
    "scrolled": true
   },
   "outputs": [
    {
     "data": {
      "image/png": "[encoded data removed]",
      "text/plain": [
       "<Figure size 432x288 with 2 Axes>"
      ]
     },
     "metadata": {
      "needs_background": "light"
     },
     "output_type": "display_data"
    }
   ],
   "source": [
    "\n",
    "cf_matrix = confusion_matrix(y_val, y_pred_XGB)\n",
    "fig, ax = plt.subplots(figsize=(6,4))\n",
    "ax = sns.heatmap(cf_matrix, annot=True, fmt='', cmap='Greens')\n",
    "ax.set_title('Confusion Matrix\\n');\n",
    "ax.set_xlabel('\\nPredicted Values')\n",
    "ax.set_ylabel('Actual Values ');\n",
    "ax.xaxis.set_ticklabels([\"cat\",\"dog\"])\n",
    "ax.yaxis.set_ticklabels([\"cat\",\"dog\"],rotation=0)\n",
    "\n",
    "plt.show()"
   ]
  },
  {
   "cell_type": "code",
   "execution_count": 80,
   "id": "cdfb28df",
   "metadata": {},
   "outputs": [
    {
     "name": "stdout",
     "output_type": "stream",
     "text": [
      "0.6555061728395062\n",
      "CPU times: total: 1h 29min 56s\n",
      "Wall time: 13min 8s\n"
     ]
    }
   ],
   "source": [
    "%%time\n",
    "\n",
    "kf= KFold(n_splits=5, random_state=42, shuffle=True)\n",
    "XGBClassifier = XGBClassifier(objective=\"binary:logistic\", random_state=42,eval_metric='auc')\n",
    "XGB = cross_val_score(XGBClassifier, X_train,y_train, cv=kf, scoring='accuracy').mean()\n",
    "print(XGB)"
   ]
  },
  {
   "cell_type": "markdown",
   "id": "ec19518e",
   "metadata": {},
   "source": [
    "### *AdaBoost Classifier:*"
   ]
  },
  {
   "cell_type": "code",
   "execution_count": 81,
   "id": "474add03",
   "metadata": {},
   "outputs": [
    {
     "name": "stdout",
     "output_type": "stream",
     "text": [
      "Accuracy: 0.601\n",
      "CPU times: total: 6min 24s\n",
      "Wall time: 6min 24s\n"
     ]
    }
   ],
   "source": [
    "%%time\n",
    "\n",
    "AdB = AdaBoostClassifier()\n",
    "AdB.fit(X_train, y_train)\n",
    "y_pred = AdB.predict(X_val)\n",
    "\n",
    "accuracy = round(metrics.accuracy_score(y_val, y_pred),3)\n",
    "print(\"Accuracy:\", accuracy)\n",
    "#print(\"Classification Report: \\n\", metrics.classification_report(y_test, y_pred))"
   ]
  },
  {
   "cell_type": "code",
   "execution_count": 82,
   "id": "07c547fd",
   "metadata": {},
   "outputs": [
    {
     "name": "stdout",
     "output_type": "stream",
     "text": [
      "0.5813827160493826\n",
      "CPU times: total: 9min 17s\n",
      "Wall time: 9min 19s\n"
     ]
    }
   ],
   "source": [
    "%%time\n",
    "\n",
    "kf= KFold(n_splits=3, random_state=42, shuffle=True)\n",
    "AdaBoost = AdaBoostClassifier()\n",
    "AdB = cross_val_score(AdaBoost, X_train,y_train, cv=kf, scoring='accuracy').mean()\n",
    "print(AdB)\n"
   ]
  },
  {
   "cell_type": "markdown",
   "id": "724c60c7",
   "metadata": {},
   "source": [
    "### *Gradient Boosting Classifier:*"
   ]
  },
  {
   "cell_type": "code",
   "execution_count": 83,
   "id": "1fe9d946",
   "metadata": {
    "scrolled": false
   },
   "outputs": [
    {
     "name": "stdout",
     "output_type": "stream",
     "text": [
      "      Iter       Train Loss   Remaining Time \n",
      "         1           1.3795           25.98m\n",
      "         2           1.3731           25.17m\n",
      "         3           1.3676           24.98m\n",
      "         4           1.3624           24.75m\n",
      "         5           1.3575           24.57m\n",
      "         6           1.3532           24.39m\n",
      "         7           1.3484           24.00m\n",
      "         8           1.3444           23.72m\n",
      "         9           1.3397           23.50m\n",
      "        10           1.3365           23.26m\n",
      "        20           1.3048           20.69m\n",
      "        30           1.2798           17.98m\n",
      "        40           1.2608           15.31m\n",
      "        50           1.2447           12.70m\n",
      "        60           1.2292           10.18m\n",
      "        70           1.2160            7.64m\n",
      "        80           1.2028            5.08m\n",
      "        90           1.1910            2.55m\n",
      "       100           1.1777            0.00s\n",
      "Accuracy: 0.653\n"
     ]
    }
   ],
   "source": [
    "GBC = GradientBoostingClassifier(verbose=1).fit(X_train, y_train)\n",
    "y_pred = GBC.predict(X_val)\n",
    "\n",
    "accuracy = round(metrics.accuracy_score(y_val, y_pred),3)\n",
    "print(\"Accuracy:\", accuracy)\n",
    "#print(\"Classification Report: \\n\", metrics.classification_report(y_test, y_pred))    "
   ]
  },
  {
   "cell_type": "markdown",
   "id": "1cee1925",
   "metadata": {},
   "source": [
    "### *PCA:*"
   ]
  },
  {
   "cell_type": "code",
   "execution_count": 31,
   "id": "b92002a4",
   "metadata": {
    "scrolled": true
   },
   "outputs": [
    {
     "data": {
      "text/plain": [
       "Text(0, 0.5, 'cumulative explained variance')"
      ]
     },
     "execution_count": 31,
     "metadata": {},
     "output_type": "execute_result"
    },
    {
     "data": {
      "image/png": "[encoded data removed]",
      "text/plain": [
       "<Figure size 432x288 with 1 Axes>"
      ]
     },
     "metadata": {
      "needs_background": "light"
     },
     "output_type": "display_data"
    }
   ],
   "source": [
    "pca = PCA().fit(X_train)\n",
    "plt.plot(np.cumsum(pca.explained_variance_ratio_))\n",
    "plt.xlabel('number of components')\n",
    "plt.ylabel('cumulative explained variance')"
   ]
  },
  {
   "cell_type": "code",
   "execution_count": 56,
   "id": "9c8573de",
   "metadata": {},
   "outputs": [],
   "source": [
    "pca = PCA(n_components = 0.95)\n",
    "pca.fit(X_train)\n",
    "X_reduced_train = pca.transform(X_train)\n",
    "X_reduced_test = pca.transform(X_val)"
   ]
  },
  {
   "cell_type": "code",
   "execution_count": 57,
   "id": "8a7be1fc",
   "metadata": {},
   "outputs": [
    {
     "data": {
      "text/plain": [
       "(20250, 353)"
      ]
     },
     "execution_count": 57,
     "metadata": {},
     "output_type": "execute_result"
    }
   ],
   "source": [
    "X_reduced_train.shape"
   ]
  },
  {
   "cell_type": "code",
   "execution_count": 58,
   "id": "5bab55ba",
   "metadata": {},
   "outputs": [
    {
     "data": {
      "text/plain": [
       "Text(0.5, 1.0, 'After PCA')"
      ]
     },
     "execution_count": 58,
     "metadata": {},
     "output_type": "execute_result"
    },
    {
     "data": {
      "image/png": "[encoded data removed]",
      "text/plain": [
       "<Figure size 720x504 with 2 Axes>"
      ]
     },
     "metadata": {
      "needs_background": "light"
     },
     "output_type": "display_data"
    }
   ],
   "source": [
    "fig = plt.figure(figsize=(10, 7))\n",
    "X_recovered = pca.inverse_transform(X_reduced_train)\n",
    "  \n",
    "fig.add_subplot(1, 2, 1)\n",
    "plt.imshow(X_train[2,:].reshape(55,55), cmap=plt.get_cmap('gray'))\n",
    "plt.title(\"Before PCA\")\n",
    "\n",
    "fig.add_subplot(1, 2, 2)\n",
    "plt.imshow(X_recovered[2,:].reshape(55,55), cmap=plt.get_cmap('gray'))\n",
    "plt.title(\"After PCA\")"
   ]
  },
  {
   "cell_type": "code",
   "execution_count": 59,
   "id": "3e1a6cd0",
   "metadata": {},
   "outputs": [
    {
     "name": "stdout",
     "output_type": "stream",
     "text": [
      "CPU times: total: 23min\n",
      "Wall time: 3min 49s\n"
     ]
    },
    {
     "data": {
      "text/html": [
       "<style>#sk-container-id-4 {color: black;background-color: white;}#sk-container-id-4 pre{padding: 0;}#sk-container-id-4 div.sk-toggleable {background-color: white;}#sk-container-id-4 label.sk-toggleable__label {cursor: pointer;display: block;width: 100%;margin-bottom: 0;padding: 0.3em;box-sizing: border-box;text-align: center;}#sk-container-id-4 label.sk-toggleable__label-arrow:before {content: \"▸\";float: left;margin-right: 0.25em;color: #696969;}#sk-container-id-4 label.sk-toggleable__label-arrow:hover:before {color: black;}#sk-container-id-4 div.sk-estimator:hover label.sk-toggleable__label-arrow:before {color: black;}#sk-container-id-4 div.sk-toggleable__content {max-height: 0;max-width: 0;overflow: hidden;text-align: left;background-color: #f0f8ff;}#sk-container-id-4 div.sk-toggleable__content pre {margin: 0.2em;color: black;border-radius: 0.25em;background-color: #f0f8ff;}#sk-container-id-4 input.sk-toggleable__control:checked~div.sk-toggleable__content {max-height: 200px;max-width: 100%;overflow: auto;}#sk-container-id-4 input.sk-toggleable__control:checked~label.sk-toggleable__label-arrow:before {content: \"▾\";}#sk-container-id-4 div.sk-estimator input.sk-toggleable__control:checked~label.sk-toggleable__label {background-color: #d4ebff;}#sk-container-id-4 div.sk-label input.sk-toggleable__control:checked~label.sk-toggleable__label {background-color: #d4ebff;}#sk-container-id-4 input.sk-hidden--visually {border: 0;clip: rect(1px 1px 1px 1px);clip: rect(1px, 1px, 1px, 1px);height: 1px;margin: -1px;overflow: hidden;padding: 0;position: absolute;width: 1px;}#sk-container-id-4 div.sk-estimator {font-family: monospace;background-color: #f0f8ff;border: 1px dotted black;border-radius: 0.25em;box-sizing: border-box;margin-bottom: 0.5em;}#sk-container-id-4 div.sk-estimator:hover {background-color: #d4ebff;}#sk-container-id-4 div.sk-parallel-item::after {content: \"\";width: 100%;border-bottom: 1px solid gray;flex-grow: 1;}#sk-container-id-4 div.sk-label:hover label.sk-toggleable__label {background-color: #d4ebff;}#sk-container-id-4 div.sk-serial::before {content: \"\";position: absolute;border-left: 1px solid gray;box-sizing: border-box;top: 0;bottom: 0;left: 50%;z-index: 0;}#sk-container-id-4 div.sk-serial {display: flex;flex-direction: column;align-items: center;background-color: white;padding-right: 0.2em;padding-left: 0.2em;position: relative;}#sk-container-id-4 div.sk-item {position: relative;z-index: 1;}#sk-container-id-4 div.sk-parallel {display: flex;align-items: stretch;justify-content: center;background-color: white;position: relative;}#sk-container-id-4 div.sk-item::before, #sk-container-id-4 div.sk-parallel-item::before {content: \"\";position: absolute;border-left: 1px solid gray;box-sizing: border-box;top: 0;bottom: 0;left: 50%;z-index: -1;}#sk-container-id-4 div.sk-parallel-item {display: flex;flex-direction: column;z-index: 1;position: relative;background-color: white;}#sk-container-id-4 div.sk-parallel-item:first-child::after {align-self: flex-end;width: 50%;}#sk-container-id-4 div.sk-parallel-item:last-child::after {align-self: flex-start;width: 50%;}#sk-container-id-4 div.sk-parallel-item:only-child::after {width: 0;}#sk-container-id-4 div.sk-dashed-wrapped {border: 1px dashed gray;margin: 0 0.4em 0.5em 0.4em;box-sizing: border-box;padding-bottom: 0.4em;background-color: white;}#sk-container-id-4 div.sk-label label {font-family: monospace;font-weight: bold;display: inline-block;line-height: 1.2em;}#sk-container-id-4 div.sk-label-container {text-align: center;}#sk-container-id-4 div.sk-container {/* jupyter's `normalize.less` sets `[hidden] { display: none; }` but bootstrap.min.css set `[hidden] { display: none !important; }` so we also need the `!important` here to be able to override the default hidden behavior on the sphinx rendered scikit-learn.org. See: https://github.com/scikit-learn/scikit-learn/issues/21755 */display: inline-block !important;position: relative;}#sk-container-id-4 div.sk-text-repr-fallback {display: none;}</style><div id=\"sk-container-id-4\" class=\"sk-top-container\"><div class=\"sk-text-repr-fallback\"><pre>XGBClassifier(base_score=0.5, booster=&#x27;gbtree&#x27;, colsample_bylevel=1,\n",
       "              colsample_bynode=1, colsample_bytree=1, enable_categorical=False,\n",
       "              gamma=0, gpu_id=-1, importance_type=None,\n",
       "              interaction_constraints=&#x27;&#x27;, learning_rate=0.300000012,\n",
       "              max_delta_step=0, max_depth=6, min_child_weight=1, missing=nan,\n",
       "              monotone_constraints=&#x27;()&#x27;, n_estimators=100, n_jobs=8,\n",
       "              num_class=10, num_parallel_tree=1, objective=&#x27;multi:softprob&#x27;,\n",
       "              predictor=&#x27;auto&#x27;, random_state=0, reg_alpha=0, reg_lambda=1,\n",
       "              scale_pos_weight=None, subsample=1, tree_method=&#x27;exact&#x27;,\n",
       "              validate_parameters=1, verbosity=None)</pre><b>In a Jupyter environment, please rerun this cell to show the HTML representation or trust the notebook. <br />On GitHub, the HTML representation is unable to render, please try loading this page with nbviewer.org.</b></div><div class=\"sk-container\" hidden><div class=\"sk-item\"><div class=\"sk-estimator sk-toggleable\"><input class=\"sk-toggleable__control sk-hidden--visually\" id=\"sk-estimator-id-4\" type=\"checkbox\" checked><label for=\"sk-estimator-id-4\" class=\"sk-toggleable__label sk-toggleable__label-arrow\">XGBClassifier</label><div class=\"sk-toggleable__content\"><pre>XGBClassifier(base_score=0.5, booster=&#x27;gbtree&#x27;, colsample_bylevel=1,\n",
       "              colsample_bynode=1, colsample_bytree=1, enable_categorical=False,\n",
       "              gamma=0, gpu_id=-1, importance_type=None,\n",
       "              interaction_constraints=&#x27;&#x27;, learning_rate=0.300000012,\n",
       "              max_delta_step=0, max_depth=6, min_child_weight=1, missing=nan,\n",
       "              monotone_constraints=&#x27;()&#x27;, n_estimators=100, n_jobs=8,\n",
       "              num_class=10, num_parallel_tree=1, objective=&#x27;multi:softprob&#x27;,\n",
       "              predictor=&#x27;auto&#x27;, random_state=0, reg_alpha=0, reg_lambda=1,\n",
       "              scale_pos_weight=None, subsample=1, tree_method=&#x27;exact&#x27;,\n",
       "              validate_parameters=1, verbosity=None)</pre></div></div></div></div></div>"
      ],
      "text/plain": [
       "XGBClassifier(base_score=0.5, booster='gbtree', colsample_bylevel=1,\n",
       "              colsample_bynode=1, colsample_bytree=1, enable_categorical=False,\n",
       "              gamma=0, gpu_id=-1, importance_type=None,\n",
       "              interaction_constraints='', learning_rate=0.300000012,\n",
       "              max_delta_step=0, max_depth=6, min_child_weight=1, missing=nan,\n",
       "              monotone_constraints='()', n_estimators=100, n_jobs=8,\n",
       "              num_class=10, num_parallel_tree=1, objective='multi:softprob',\n",
       "              predictor='auto', random_state=0, reg_alpha=0, reg_lambda=1,\n",
       "              scale_pos_weight=None, subsample=1, tree_method='exact',\n",
       "              validate_parameters=1, verbosity=None)"
      ]
     },
     "execution_count": 59,
     "metadata": {},
     "output_type": "execute_result"
    }
   ],
   "source": [
    "%%time\n",
    "XGB = XGBClassifier(objective=\"multi:softprob\",num_class=10)\n",
    "XGB.fit(X_reduced_train, y_train,eval_metric='auc')"
   ]
  },
  {
   "cell_type": "code",
   "execution_count": 60,
   "id": "24ae0acf",
   "metadata": {},
   "outputs": [
    {
     "name": "stdout",
     "output_type": "stream",
     "text": [
      "Accuracy: 0.644\n"
     ]
    }
   ],
   "source": [
    "y_pred = XGB.predict(X_reduced_test)      \n",
    "accuracy = metrics.accuracy_score(y_val, y_pred)\n",
    "print(\"Accuracy:\", round(accuracy,3))"
   ]
  },
  {
   "cell_type": "markdown",
   "id": "3c6acfae",
   "metadata": {},
   "source": [
    "### Hyperparameter Tuning: "
   ]
  },
  {
   "cell_type": "code",
   "execution_count": 84,
   "id": "201e8212",
   "metadata": {},
   "outputs": [],
   "source": [
    "#Searching for better performance out of the models with RandomizedSearch"
   ]
  },
  {
   "cell_type": "code",
   "execution_count": 70,
   "id": "947a21ee",
   "metadata": {},
   "outputs": [
    {
     "name": "stdout",
     "output_type": "stream",
     "text": [
      "Fitting 4 folds for each of 10 candidates, totalling 40 fits\n",
      "Accuracy Score =  0.636\n"
     ]
    }
   ],
   "source": [
    "#XGBClassifier\n",
    "parameters = {\n",
    "        'max_depth': [3,4,5,6],\n",
    "        'n_estimators' : [100,150,170,190,200]\n",
    "         }\n",
    "\n",
    "random_XGB = RandomizedSearchCV(XGBClassifier(),parameters, verbose=True, \n",
    "                          cv=4,random_state=42, return_train_score=True)\n",
    "random_XGB.fit(X_reduced_train,y_train, eval_metric='auc')\n",
    "y_pred_XGB_random = random_XGB.predict(X_reduced_test)\n",
    "print (\"Accuracy Score = \",round(metrics.accuracy_score(y_val,y_pred_XGB_random),3))"
   ]
  },
  {
   "cell_type": "code",
   "execution_count": 71,
   "id": "9d3525d4",
   "metadata": {},
   "outputs": [
    {
     "data": {
      "text/plain": [
       "{'n_estimators': 190, 'max_depth': 3}"
      ]
     },
     "execution_count": 71,
     "metadata": {},
     "output_type": "execute_result"
    }
   ],
   "source": [
    "random_XGB.best_params_"
   ]
  },
  {
   "cell_type": "code",
   "execution_count": null,
   "id": "c8900e9d",
   "metadata": {},
   "outputs": [],
   "source": []
  },
  {
   "cell_type": "markdown",
   "id": "87bce717",
   "metadata": {},
   "source": [
    "### testing the final models\n",
    "- XGB with Feature selection\n",
    "- XGB with PCA "
   ]
  },
  {
   "cell_type": "code",
   "execution_count": 72,
   "id": "abaa96b7",
   "metadata": {},
   "outputs": [],
   "source": [
    "X_train, X_test, y_train, y_test = train_test_split(X,Y, test_size=0.1, random_state=42)"
   ]
  },
  {
   "cell_type": "code",
   "execution_count": 73,
   "id": "4455f6fd",
   "metadata": {},
   "outputs": [],
   "source": [
    "pca = PCA(n_components = 0.95)\n",
    "pca.fit(X_train)\n",
    "X_reduced_train = pca.transform(X_train)\n",
    "X_reduced_test = pca.transform(X_test)"
   ]
  },
  {
   "cell_type": "code",
   "execution_count": 74,
   "id": "2680004a",
   "metadata": {},
   "outputs": [
    {
     "name": "stdout",
     "output_type": "stream",
     "text": [
      "CPU times: total: 33min 20s\n",
      "Wall time: 4min 38s\n"
     ]
    },
    {
     "data": {
      "text/html": [
       "<style>#sk-container-id-5 {color: black;background-color: white;}#sk-container-id-5 pre{padding: 0;}#sk-container-id-5 div.sk-toggleable {background-color: white;}#sk-container-id-5 label.sk-toggleable__label {cursor: pointer;display: block;width: 100%;margin-bottom: 0;padding: 0.3em;box-sizing: border-box;text-align: center;}#sk-container-id-5 label.sk-toggleable__label-arrow:before {content: \"▸\";float: left;margin-right: 0.25em;color: #696969;}#sk-container-id-5 label.sk-toggleable__label-arrow:hover:before {color: black;}#sk-container-id-5 div.sk-estimator:hover label.sk-toggleable__label-arrow:before {color: black;}#sk-container-id-5 div.sk-toggleable__content {max-height: 0;max-width: 0;overflow: hidden;text-align: left;background-color: #f0f8ff;}#sk-container-id-5 div.sk-toggleable__content pre {margin: 0.2em;color: black;border-radius: 0.25em;background-color: #f0f8ff;}#sk-container-id-5 input.sk-toggleable__control:checked~div.sk-toggleable__content {max-height: 200px;max-width: 100%;overflow: auto;}#sk-container-id-5 input.sk-toggleable__control:checked~label.sk-toggleable__label-arrow:before {content: \"▾\";}#sk-container-id-5 div.sk-estimator input.sk-toggleable__control:checked~label.sk-toggleable__label {background-color: #d4ebff;}#sk-container-id-5 div.sk-label input.sk-toggleable__control:checked~label.sk-toggleable__label {background-color: #d4ebff;}#sk-container-id-5 input.sk-hidden--visually {border: 0;clip: rect(1px 1px 1px 1px);clip: rect(1px, 1px, 1px, 1px);height: 1px;margin: -1px;overflow: hidden;padding: 0;position: absolute;width: 1px;}#sk-container-id-5 div.sk-estimator {font-family: monospace;background-color: #f0f8ff;border: 1px dotted black;border-radius: 0.25em;box-sizing: border-box;margin-bottom: 0.5em;}#sk-container-id-5 div.sk-estimator:hover {background-color: #d4ebff;}#sk-container-id-5 div.sk-parallel-item::after {content: \"\";width: 100%;border-bottom: 1px solid gray;flex-grow: 1;}#sk-container-id-5 div.sk-label:hover label.sk-toggleable__label {background-color: #d4ebff;}#sk-container-id-5 div.sk-serial::before {content: \"\";position: absolute;border-left: 1px solid gray;box-sizing: border-box;top: 0;bottom: 0;left: 50%;z-index: 0;}#sk-container-id-5 div.sk-serial {display: flex;flex-direction: column;align-items: center;background-color: white;padding-right: 0.2em;padding-left: 0.2em;position: relative;}#sk-container-id-5 div.sk-item {position: relative;z-index: 1;}#sk-container-id-5 div.sk-parallel {display: flex;align-items: stretch;justify-content: center;background-color: white;position: relative;}#sk-container-id-5 div.sk-item::before, #sk-container-id-5 div.sk-parallel-item::before {content: \"\";position: absolute;border-left: 1px solid gray;box-sizing: border-box;top: 0;bottom: 0;left: 50%;z-index: -1;}#sk-container-id-5 div.sk-parallel-item {display: flex;flex-direction: column;z-index: 1;position: relative;background-color: white;}#sk-container-id-5 div.sk-parallel-item:first-child::after {align-self: flex-end;width: 50%;}#sk-container-id-5 div.sk-parallel-item:last-child::after {align-self: flex-start;width: 50%;}#sk-container-id-5 div.sk-parallel-item:only-child::after {width: 0;}#sk-container-id-5 div.sk-dashed-wrapped {border: 1px dashed gray;margin: 0 0.4em 0.5em 0.4em;box-sizing: border-box;padding-bottom: 0.4em;background-color: white;}#sk-container-id-5 div.sk-label label {font-family: monospace;font-weight: bold;display: inline-block;line-height: 1.2em;}#sk-container-id-5 div.sk-label-container {text-align: center;}#sk-container-id-5 div.sk-container {/* jupyter's `normalize.less` sets `[hidden] { display: none; }` but bootstrap.min.css set `[hidden] { display: none !important; }` so we also need the `!important` here to be able to override the default hidden behavior on the sphinx rendered scikit-learn.org. See: https://github.com/scikit-learn/scikit-learn/issues/21755 */display: inline-block !important;position: relative;}#sk-container-id-5 div.sk-text-repr-fallback {display: none;}</style><div id=\"sk-container-id-5\" class=\"sk-top-container\"><div class=\"sk-text-repr-fallback\"><pre>XGBClassifier(base_score=0.5, booster=&#x27;gbtree&#x27;, colsample_bylevel=1,\n",
       "              colsample_bynode=1, colsample_bytree=1, enable_categorical=False,\n",
       "              gamma=0, gpu_id=-1, importance_type=None,\n",
       "              interaction_constraints=&#x27;&#x27;, learning_rate=0.300000012,\n",
       "              max_delta_step=0, max_depth=6, min_child_weight=1, missing=nan,\n",
       "              monotone_constraints=&#x27;()&#x27;, n_estimators=100, n_jobs=8,\n",
       "              num_class=10, num_parallel_tree=1, objective=&#x27;multi:softprob&#x27;,\n",
       "              predictor=&#x27;auto&#x27;, random_state=0, reg_alpha=0, reg_lambda=1,\n",
       "              scale_pos_weight=None, subsample=1, tree_method=&#x27;exact&#x27;,\n",
       "              validate_parameters=1, verbosity=None)</pre><b>In a Jupyter environment, please rerun this cell to show the HTML representation or trust the notebook. <br />On GitHub, the HTML representation is unable to render, please try loading this page with nbviewer.org.</b></div><div class=\"sk-container\" hidden><div class=\"sk-item\"><div class=\"sk-estimator sk-toggleable\"><input class=\"sk-toggleable__control sk-hidden--visually\" id=\"sk-estimator-id-5\" type=\"checkbox\" checked><label for=\"sk-estimator-id-5\" class=\"sk-toggleable__label sk-toggleable__label-arrow\">XGBClassifier</label><div class=\"sk-toggleable__content\"><pre>XGBClassifier(base_score=0.5, booster=&#x27;gbtree&#x27;, colsample_bylevel=1,\n",
       "              colsample_bynode=1, colsample_bytree=1, enable_categorical=False,\n",
       "              gamma=0, gpu_id=-1, importance_type=None,\n",
       "              interaction_constraints=&#x27;&#x27;, learning_rate=0.300000012,\n",
       "              max_delta_step=0, max_depth=6, min_child_weight=1, missing=nan,\n",
       "              monotone_constraints=&#x27;()&#x27;, n_estimators=100, n_jobs=8,\n",
       "              num_class=10, num_parallel_tree=1, objective=&#x27;multi:softprob&#x27;,\n",
       "              predictor=&#x27;auto&#x27;, random_state=0, reg_alpha=0, reg_lambda=1,\n",
       "              scale_pos_weight=None, subsample=1, tree_method=&#x27;exact&#x27;,\n",
       "              validate_parameters=1, verbosity=None)</pre></div></div></div></div></div>"
      ],
      "text/plain": [
       "XGBClassifier(base_score=0.5, booster='gbtree', colsample_bylevel=1,\n",
       "              colsample_bynode=1, colsample_bytree=1, enable_categorical=False,\n",
       "              gamma=0, gpu_id=-1, importance_type=None,\n",
       "              interaction_constraints='', learning_rate=0.300000012,\n",
       "              max_delta_step=0, max_depth=6, min_child_weight=1, missing=nan,\n",
       "              monotone_constraints='()', n_estimators=100, n_jobs=8,\n",
       "              num_class=10, num_parallel_tree=1, objective='multi:softprob',\n",
       "              predictor='auto', random_state=0, reg_alpha=0, reg_lambda=1,\n",
       "              scale_pos_weight=None, subsample=1, tree_method='exact',\n",
       "              validate_parameters=1, verbosity=None)"
      ]
     },
     "execution_count": 74,
     "metadata": {},
     "output_type": "execute_result"
    }
   ],
   "source": [
    "%%time\n",
    "XGB = XGBClassifier(objective=\"multi:softprob\",num_class=10)\n",
    "XGB.fit(X_reduced_train, y_train,eval_metric='auc')"
   ]
  },
  {
   "cell_type": "code",
   "execution_count": 75,
   "id": "b9ea2712",
   "metadata": {},
   "outputs": [
    {
     "name": "stdout",
     "output_type": "stream",
     "text": [
      "Accuracy: 0.624\n"
     ]
    }
   ],
   "source": [
    "y_pred = XGB.predict(X_reduced_test)      \n",
    "accuracy = metrics.accuracy_score(y_test, y_pred)\n",
    "print(\"Accuracy:\", round(accuracy,3))"
   ]
  },
  {
   "cell_type": "code",
   "execution_count": 76,
   "id": "7bb0afe9",
   "metadata": {},
   "outputs": [
    {
     "name": "stdout",
     "output_type": "stream",
     "text": [
      "Accuracy: 0.676\n",
      "CPU times: total: 12min 1s\n",
      "Wall time: 1min 41s\n"
     ]
    }
   ],
   "source": [
    "%%time\n",
    "XGBoost = XGBClassifier(objective=\"binary:logistic\", random_state=42)\n",
    "XGBoost.fit(X_train, y_train, eval_metric='auc')\n",
    "y_pred_XGB = XGBoost.predict(X_test)\n",
    "\n",
    "accuracy = round(metrics.accuracy_score(y_test, y_pred_XGB),3)\n",
    "print(\"Accuracy:\", accuracy)"
   ]
  },
  {
   "cell_type": "markdown",
   "id": "682684ee",
   "metadata": {},
   "source": [
    "## *The best model accuracy : 0.676*"
   ]
  },
  {
   "cell_type": "code",
   "execution_count": null,
   "id": "6565e64f",
   "metadata": {},
   "outputs": [],
   "source": []
  }
 ],
 "metadata": {
  "kernelspec": {
   "display_name": "Python 3 (ipykernel)",
   "language": "python",
   "name": "python3"
  },
  "language_info": {
   "codemirror_mode": {
    "name": "ipython",
    "version": 3
   },
   "file_extension": ".py",
   "mimetype": "text/x-python",
   "name": "python",
   "nbconvert_exporter": "python",
   "pygments_lexer": "ipython3",
   "version": "3.9.12"
  }
 },
 "nbformat": 4,
 "nbformat_minor": 5
}
