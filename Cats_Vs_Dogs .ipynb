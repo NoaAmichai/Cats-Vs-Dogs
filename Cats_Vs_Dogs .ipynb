{
 "cells": [
  {
   "cell_type": "code",
   "execution_count": 1,
   "id": "6e7aab06",
   "metadata": {},
   "outputs": [],
   "source": [
    "import pandas as pd\n",
    "import numpy as np\n",
    "import matplotlib.pyplot as plt\n",
    "import matplotlib_inline\n",
    "import os\n",
    "import warnings\n",
    "warnings.filterwarnings('ignore')\n",
    "from tqdm import tqdm\n",
    "import seaborn as sns\n",
    "from PIL import Image\n",
    "from numpy import asarray\n",
    "\n",
    "np.set_printoptions(precision=5)#show 5 number after decimal point "
   ]
  },
  {
   "cell_type": "code",
   "execution_count": 22,
   "id": "94a7e541",
   "metadata": {},
   "outputs": [],
   "source": [
    "from sklearn.metrics import classification_report\n",
    "from sklearn import metrics\n",
    "from sklearn.metrics import accuracy_score, precision_score, recall_score\n",
    "from sklearn.model_selection import cross_val_score\n",
    "from sklearn.model_selection import KFold\n",
    "from sklearn.decomposition import PCA\n",
    "from sklearn.model_selection import RandomizedSearchCV\n",
    "from sklearn.ensemble import GradientBoostingClassifier\n",
    "from sklearn.ensemble import AdaBoostClassifier\n",
    "from xgboost import XGBClassifier\n",
    "from sklearn.feature_selection import SelectKBest\n",
    "from sklearn.metrics import confusion_matrix\n",
    "from xgboost import XGBClassifier\n",
    "from sklearn.model_selection import train_test_split\n",
    "from sklearn.dummy import DummyClassifier\n",
    "from sklearn.neighbors import KNeighborsClassifier \n",
    "from sklearn.ensemble import VotingClassifier\n",
    "from sklearn.linear_model import LogisticRegression\n",
    "from sklearn.tree import DecisionTreeClassifier\n",
    "from sklearn.ensemble import RandomForestClassifier\n",
    "import lightgbm as lgb\n",
    "from sklearn.pipeline import Pipeline\n",
    "from sklearn.cluster import KMeans\n",
    "from sklearn.feature_selection import chi2\n",
    "from sklearn.naive_bayes import GaussianNB\n",
    "from sklearn.svm import SVC\n",
    "from sklearn.tree import ExtraTreeClassifier\n",
    "from sklearn.linear_model import SGDClassifier\n",
    "from sklearn.ensemble import GradientBoostingClassifier"
   ]
  },
  {
   "cell_type": "code",
   "execution_count": 3,
   "id": "a1ac6ea7",
   "metadata": {},
   "outputs": [],
   "source": [
    "url = r\"train\\\\\""
   ]
  },
  {
   "cell_type": "code",
   "execution_count": 4,
   "id": "34035f0a",
   "metadata": {},
   "outputs": [],
   "source": [
    "def create_data():\n",
    "    data = list()\n",
    "    label = 0 #cat = 1 , dog = 0\n",
    "    for img in tqdm(os.listdir(url)):\n",
    "        if img.startswith('cat'): label = 1 \n",
    "        else :label = 0 \n",
    "        im = asarray(Image.open(url+img).resize((40,40)).convert('L')) #resize and changing colors\n",
    "        data.append([im,label])\n",
    "    np.save('data.npy', data)\n",
    "    return data"
   ]
  },
  {
   "cell_type": "code",
   "execution_count": 13,
   "id": "9e010216",
   "metadata": {},
   "outputs": [
    {
     "name": "stderr",
     "output_type": "stream",
     "text": [
      "100%|████████████████████████████████████████████████████████████████████████████| 25000/25000 [04:36<00:00, 90.52it/s]\n"
     ]
    }
   ],
   "source": [
    "data = create_data()"
   ]
  },
  {
   "cell_type": "code",
   "execution_count": 5,
   "id": "80add8ac",
   "metadata": {
    "slideshow": {
     "slide_type": "-"
    }
   },
   "outputs": [],
   "source": [
    "# load the data:\n",
    "data = np.load('data.npy',allow_pickle=True)"
   ]
  },
  {
   "cell_type": "code",
   "execution_count": 6,
   "id": "c48d9ccc",
   "metadata": {},
   "outputs": [],
   "source": [
    "X = (np.array([i[0] for i in data]))\n",
    "Y = (np.array([i[1] for i in data]))"
   ]
  },
  {
   "cell_type": "code",
   "execution_count": 7,
   "id": "f0e9d816",
   "metadata": {},
   "outputs": [],
   "source": [
    "X = X /255.0"
   ]
  },
  {
   "cell_type": "code",
   "execution_count": 8,
   "id": "5f9acdb7",
   "metadata": {},
   "outputs": [
    {
     "data": {
      "text/plain": [
       "(25000, 40, 40)"
      ]
     },
     "execution_count": 8,
     "metadata": {},
     "output_type": "execute_result"
    }
   ],
   "source": [
    "X.shape"
   ]
  },
  {
   "cell_type": "code",
   "execution_count": 9,
   "id": "611e03a1",
   "metadata": {},
   "outputs": [
    {
     "data": {
      "text/plain": [
       "Text(0.5, 1.0, 'DOG')"
      ]
     },
     "execution_count": 9,
     "metadata": {},
     "output_type": "execute_result"
    },
    {
     "data": {
      "image/png": "[encoded data removed]",
      "text/plain": [
       "<Figure size 720x504 with 2 Axes>"
      ]
     },
     "metadata": {
      "needs_background": "light"
     },
     "output_type": "display_data"
    }
   ],
   "source": [
    "fig = plt.figure(figsize=(10, 7))\n",
    "  \n",
    "fig.add_subplot(1, 2, 1)\n",
    "plt.imshow(X[1,:], cmap=plt.get_cmap('gray'))\n",
    "plt.title(\"CAT\")\n",
    "\n",
    "fig.add_subplot(1, 2, 2)\n",
    "plt.imshow(X[24999,:], cmap=plt.get_cmap('gray'))\n",
    "plt.title(\"DOG\")"
   ]
  },
  {
   "cell_type": "code",
   "execution_count": 10,
   "id": "3e3e0d5f",
   "metadata": {},
   "outputs": [
    {
     "data": {
      "text/plain": [
       "(25000, 1600)"
      ]
     },
     "execution_count": 10,
     "metadata": {},
     "output_type": "execute_result"
    }
   ],
   "source": [
    "X = X.reshape((25000, 40*40))\n",
    "X.shape"
   ]
  },
  {
   "cell_type": "code",
   "execution_count": 11,
   "id": "d45723a3",
   "metadata": {},
   "outputs": [],
   "source": [
    "#split the data to train and test \n",
    "X_train, X_test, y_train, y_test = train_test_split(X,Y, test_size=0.1, random_state=42)"
   ]
  },
  {
   "cell_type": "code",
   "execution_count": 12,
   "id": "8163522e",
   "metadata": {},
   "outputs": [],
   "source": [
    "#split the train\n",
    "X_train, X_val, y_train, y_val = train_test_split(X_train,y_train, test_size=0.1, random_state=42)"
   ]
  },
  {
   "cell_type": "code",
   "execution_count": 13,
   "id": "667ea03c",
   "metadata": {},
   "outputs": [
    {
     "name": "stdout",
     "output_type": "stream",
     "text": [
      "The DummyClassifier score is: 0.5\n"
     ]
    }
   ],
   "source": [
    "# Before we try real models, we will try a dummyClassifier. we will try to get high score than the dummyModel.\n",
    "dummy_clf = DummyClassifier(strategy=\"most_frequent\", random_state=42)\n",
    "dummy_clf.fit(X_train, y_train)\n",
    "y_pred = dummy_clf.predict(X_val)\n",
    "print(\"The DummyClassifier score is:\" ,round(accuracy_score(y_pred,y_val),2))"
   ]
  },
  {
   "cell_type": "markdown",
   "id": "988c3bf8",
   "metadata": {},
   "source": [
    "## *Models :*\n"
   ]
  },
  {
   "cell_type": "markdown",
   "id": "1cee1925",
   "metadata": {},
   "source": [
    "### *PCA:*"
   ]
  },
  {
   "cell_type": "code",
   "execution_count": 14,
   "id": "b92002a4",
   "metadata": {
    "scrolled": true
   },
   "outputs": [
    {
     "data": {
      "text/plain": [
       "Text(0, 0.5, 'cumulative explained variance')"
      ]
     },
     "execution_count": 14,
     "metadata": {},
     "output_type": "execute_result"
    },
    {
     "data": {
      "image/png": "[encoded data removed]",
      "text/plain": [
       "<Figure size 432x288 with 1 Axes>"
      ]
     },
     "metadata": {
      "needs_background": "light"
     },
     "output_type": "display_data"
    }
   ],
   "source": [
    "pca = PCA().fit(X_train)\n",
    "plt.plot(np.cumsum(pca.explained_variance_ratio_))\n",
    "plt.xlabel('number of components')\n",
    "plt.ylabel('cumulative explained variance')"
   ]
  },
  {
   "cell_type": "code",
   "execution_count": 15,
   "id": "9c8573de",
   "metadata": {},
   "outputs": [],
   "source": [
    "pca = PCA(n_components = 0.95,random_state=42)\n",
    "X_reduced_train= pca.fit_transform(X_train)\n",
    "X_reduced_test = pca.transform(X_val)"
   ]
  },
  {
   "cell_type": "code",
   "execution_count": 16,
   "id": "8a7be1fc",
   "metadata": {},
   "outputs": [
    {
     "data": {
      "text/plain": [
       "(20250, 250)"
      ]
     },
     "execution_count": 16,
     "metadata": {},
     "output_type": "execute_result"
    }
   ],
   "source": [
    "X_reduced_train.shape"
   ]
  },
  {
   "cell_type": "code",
   "execution_count": 17,
   "id": "f18529ed",
   "metadata": {},
   "outputs": [
    {
     "data": {
      "text/plain": [
       "Text(0.5, 1.0, 'After PCA')"
      ]
     },
     "execution_count": 17,
     "metadata": {},
     "output_type": "execute_result"
    },
    {
     "data": {
      "image/png": "[encoded data removed]",
      "text/plain": [
       "<Figure size 720x504 with 2 Axes>"
      ]
     },
     "metadata": {
      "needs_background": "light"
     },
     "output_type": "display_data"
    }
   ],
   "source": [
    "fig = plt.figure(figsize=(10, 7))\n",
    "X_recovered = pca.inverse_transform(X_reduced_train)\n",
    "  \n",
    "fig.add_subplot(1, 2, 1)\n",
    "plt.imshow(X_train[2,:].reshape(40,40), cmap=plt.get_cmap('gray'))\n",
    "plt.title(\"Before PCA\")\n",
    "\n",
    "fig.add_subplot(1, 2, 2)\n",
    "plt.imshow(X_recovered[2,:].reshape(40,40), cmap=plt.get_cmap('gray'))\n",
    "plt.title(\"After PCA\")"
   ]
  },
  {
   "cell_type": "markdown",
   "id": "38a302c5",
   "metadata": {},
   "source": [
    "### *XGBoost with PCA:*"
   ]
  },
  {
   "cell_type": "code",
   "execution_count": 25,
   "id": "3e1a6cd0",
   "metadata": {},
   "outputs": [
    {
     "name": "stdout",
     "output_type": "stream",
     "text": [
      "Accuracy: 0.636\n",
      "CPU times: total: 4min 17s\n",
      "Wall time: 40.2 s\n"
     ]
    }
   ],
   "source": [
    "%%time\n",
    "\n",
    "XGB = XGBClassifier(objective=\"binary:logistic\")\n",
    "XGB.fit(X_reduced_train, y_train,eval_metric='auc')\n",
    "y_pred = XGB.predict(X_reduced_test)      \n",
    "accuracy = metrics.accuracy_score(y_val, y_pred)\n",
    "print(\"Accuracy:\", round(accuracy,3))"
   ]
  },
  {
   "cell_type": "markdown",
   "id": "e1cd5bd5",
   "metadata": {},
   "source": [
    "### *Random Forest with PCA:*"
   ]
  },
  {
   "cell_type": "code",
   "execution_count": 26,
   "id": "c69ce4bc",
   "metadata": {
    "scrolled": true
   },
   "outputs": [
    {
     "name": "stdout",
     "output_type": "stream",
     "text": [
      "Accuracy: 0.612\n",
      "CPU times: total: 47.4 s\n",
      "Wall time: 48.3 s\n"
     ]
    }
   ],
   "source": [
    "%%time\n",
    "\n",
    "RFC = RandomForestClassifier(random_state=42)\n",
    "RFC.fit(X_reduced_train, y_train)\n",
    "y_predict_RFC = RFC.predict(X_reduced_test)\n",
    "accuracy = round(metrics.accuracy_score(y_val,y_predict_RFC),3)\n",
    "print(\"Accuracy:\", accuracy)"
   ]
  },
  {
   "cell_type": "markdown",
   "id": "f1355724",
   "metadata": {},
   "source": [
    "### *VotingClassifier :*"
   ]
  },
  {
   "cell_type": "code",
   "execution_count": 18,
   "id": "c8900e9d",
   "metadata": {},
   "outputs": [
    {
     "data": {
      "text/plain": [
       "VotingClassifier(estimators=[('lgb', LGBMClassifier()),\n",
       "                             ('GBC', GradientBoostingClassifier()),\n",
       "                             ('nb', GaussianNB()), ('svc', SVC()),\n",
       "                             ('XGB',\n",
       "                              XGBClassifier(base_score=None, booster=None,\n",
       "                                            colsample_bylevel=None,\n",
       "                                            colsample_bynode=None,\n",
       "                                            colsample_bytree=None,\n",
       "                                            enable_categorical=False,\n",
       "                                            eval_metric='auc', gamma=None,\n",
       "                                            gpu_id=None, importance_type=None,\n",
       "                                            interaction_constrain...\n",
       "                                            num_parallel_tree=None,\n",
       "                                            predictor=None, random_state=None,\n",
       "                                            reg_alpha=None, reg_lambda=None,\n",
       "                                            scale_pos_weight=None,\n",
       "                                            subsample=None, tree_method=None,\n",
       "                                            validate_parameters=None,\n",
       "                                            verbosity=None)),\n",
       "                             ('rnd', RandomForestClassifier()),\n",
       "                             ('dt', DecisionTreeClassifier()),\n",
       "                             ('lr', LogisticRegression()),\n",
       "                             ('knn', KNeighborsClassifier()),\n",
       "                             ('sgd', SGDClassifier(loss='modified_huber'))],\n",
       "                 n_jobs=-1)"
      ]
     },
     "execution_count": 18,
     "metadata": {},
     "output_type": "execute_result"
    }
   ],
   "source": [
    "lgb = lgb.LGBMClassifier()\n",
    "dt_clf = DecisionTreeClassifier()\n",
    "log_clf = LogisticRegression()\n",
    "knn_clf = KNeighborsClassifier()\n",
    "rnd_clf = RandomForestClassifier()\n",
    "svc  = SVC(kernel='rbf')\n",
    "nb = GaussianNB()\n",
    "GBC = GradientBoostingClassifier()\n",
    "sgd = SGDClassifier(loss='modified_huber')\n",
    "XGBClassifier = XGBClassifier(objective= 'binary:logistic',eval_metric='auc')\n",
    "\n",
    "voting_clf = VotingClassifier(estimators=[('lgb', lgb),('GBC',GBC),('nb',nb),('svc', svc),('XGB', XGBClassifier),('rnd',rnd_clf),\n",
    "                                          ('dt',dt_clf) ,('lr', log_clf), ('knn', knn_clf),('sgd', sgd)\n",
    "                                          ],voting='hard',n_jobs=-1,)\n",
    "voting_clf.fit(X_reduced_train, y_train)"
   ]
  },
  {
   "cell_type": "code",
   "execution_count": 19,
   "id": "d25ba6d8",
   "metadata": {},
   "outputs": [
    {
     "name": "stdout",
     "output_type": "stream",
     "text": [
      "LGBMClassifier 0.647\n",
      "GradientBoostingClassifier 0.632\n",
      "XGBClassifier 0.636\n",
      "RandomForestClassifier 0.601\n",
      "SVC 0.682\n",
      "GaussianNB 0.562\n",
      "SGDClassifier 0.514\n",
      "DecisionTreeClassifier 0.54\n",
      "LogisticRegression 0.567\n",
      "KNeighborsClassifier 0.6\n",
      "VotingClassifier 0.657\n"
     ]
    }
   ],
   "source": [
    "for clf in (lgb,GBC, XGBClassifier, rnd_clf,svc , nb,sgd , dt_clf, log_clf, knn_clf, voting_clf):\n",
    "    clf.fit(X_reduced_train, y_train)\n",
    "    y_pred = clf.predict(X_reduced_test)\n",
    "    print(clf.__class__.__name__, round(accuracy_score(y_val, y_pred),3))"
   ]
  },
  {
   "cell_type": "markdown",
   "id": "5d6b9323",
   "metadata": {},
   "source": [
    "### *Feature selection:*"
   ]
  },
  {
   "cell_type": "code",
   "execution_count": 12,
   "id": "ad806f83",
   "metadata": {
    "scrolled": true
   },
   "outputs": [
    {
     "name": "stdout",
     "output_type": "stream",
     "text": [
      "number of features :  400 , Accuracy: 0.611\n",
      "number of features :  500 , Accuracy: 0.621\n",
      "number of features :  600 , Accuracy: 0.64\n",
      "number of features :  700 , Accuracy: 0.655\n",
      "number of features :  800 , Accuracy: 0.663\n",
      "number of features :  900 , Accuracy: 0.664\n",
      "number of features :  1000 , Accuracy: 0.66\n",
      "number of features :  1100 , Accuracy: 0.652\n",
      "number of features :  1200 , Accuracy: 0.67\n",
      "number of features :  1300 , Accuracy: 0.658\n",
      "number of features :  1400 , Accuracy: 0.668\n",
      "number of features :  1500 , Accuracy: 0.669\n",
      "number of features :  1600 , Accuracy: 0.662\n"
     ]
    }
   ],
   "source": [
    "for i in range(400,1700,100):\n",
    "    X_new = SelectKBest(chi2, k=i).fit_transform(X_train, y_train)\n",
    "    X_train_new, X_val_new, y_train_new, y_val_new = train_test_split(X_new,y_train, test_size=0.1, random_state=42)\n",
    "    XGB = XGBClassifier(objective=\"binary:logistic\").fit(X_train_new, y_train_new,eval_metric='auc')\n",
    "    y_pred = XGB.predict(X_val_new)\n",
    "    accuracy = round(metrics.accuracy_score(y_val_new, y_pred),3)\n",
    "    print(\"number of features : \", i, \", Accuracy:\", accuracy)"
   ]
  },
  {
   "cell_type": "markdown",
   "id": "a832d178",
   "metadata": {},
   "source": [
    "> best accuracy with 1200 features"
   ]
  },
  {
   "cell_type": "code",
   "execution_count": 20,
   "id": "ec147f5d",
   "metadata": {},
   "outputs": [],
   "source": [
    "selector = SelectKBest(chi2, k=1225)\n",
    "X_train = selector.fit_transform(X_train,y_train)\n",
    "X_val =selector.transform(X_val)"
   ]
  },
  {
   "cell_type": "markdown",
   "id": "00eec3e3",
   "metadata": {},
   "source": [
    "### *KMeans :*"
   ]
  },
  {
   "cell_type": "code",
   "execution_count": 23,
   "id": "40244d97",
   "metadata": {
    "scrolled": true
   },
   "outputs": [
    {
     "data": {
      "text/plain": [
       "0.561"
      ]
     },
     "execution_count": 23,
     "metadata": {},
     "output_type": "execute_result"
    }
   ],
   "source": [
    "pipeline = Pipeline([\n",
    " (\"kmeans\", KMeans(n_clusters=20)),\n",
    " (\"XGB\", XGBClassifier(objective=\"binary:logistic\",eval_metric='auc'))])\n",
    "\n",
    "pipeline.fit(X_train, y_train)\n",
    "y_predict_pipe = pipeline.predict(X_val)\n",
    "round(metrics.accuracy_score(y_val,y_predict_pipe),3)"
   ]
  },
  {
   "cell_type": "code",
   "execution_count": 24,
   "id": "60e49ff9",
   "metadata": {},
   "outputs": [
    {
     "data": {
      "text/plain": [
       "0.573"
      ]
     },
     "execution_count": 24,
     "metadata": {},
     "output_type": "execute_result"
    }
   ],
   "source": [
    "pipeline = Pipeline([\n",
    " (\"kmeans\", KMeans(n_clusters=20)),\n",
    " (\"Random Forest\", RandomForestClassifier(random_state=42))])\n",
    "\n",
    "pipeline.fit(X_train, y_train)\n",
    "y_predict_pipe = pipeline.predict(X_val)\n",
    "round(metrics.accuracy_score(y_val,y_predict_pipe),3)"
   ]
  },
  {
   "cell_type": "markdown",
   "id": "eb847fcf",
   "metadata": {},
   "source": [
    "### *Random Forest Classifier :*"
   ]
  },
  {
   "cell_type": "code",
   "execution_count": 25,
   "id": "ee052414",
   "metadata": {},
   "outputs": [
    {
     "name": "stdout",
     "output_type": "stream",
     "text": [
      "Accuracy: 0.656\n",
      "CPU times: total: 1min 5s\n",
      "Wall time: 1min 6s\n"
     ]
    }
   ],
   "source": [
    "%%time\n",
    "\n",
    "RF = RandomForestClassifier(random_state=42)\n",
    "RF.fit(X_train, y_train)\n",
    "y_pred_RF = RF.predict(X_val)\n",
    "accuracy = round(metrics.accuracy_score(y_val,y_pred_RF),3)\n",
    "print(\"Accuracy:\", accuracy)"
   ]
  },
  {
   "cell_type": "markdown",
   "id": "b6fe7e35",
   "metadata": {},
   "source": [
    "### *XGB Classifier:*"
   ]
  },
  {
   "cell_type": "code",
   "execution_count": 26,
   "id": "696a8858",
   "metadata": {},
   "outputs": [
    {
     "name": "stdout",
     "output_type": "stream",
     "text": [
      "Accuracy: 0.66\n",
      "CPU times: total: 4min 15s\n",
      "Wall time: 39 s\n"
     ]
    }
   ],
   "source": [
    "%%time\n",
    "\n",
    "XGBoost = XGBClassifier(objective=\"binary:logistic\", random_state=42)\n",
    "XGBoost.fit(X_train, y_train, eval_metric='auc')\n",
    "y_pred_XGB = XGBoost.predict(X_val)\n",
    "\n",
    "accuracy = round(metrics.accuracy_score(y_val, y_pred_XGB),3)\n",
    "print(\"Accuracy:\", accuracy)"
   ]
  },
  {
   "cell_type": "code",
   "execution_count": 27,
   "id": "58b30ccc",
   "metadata": {
    "scrolled": true
   },
   "outputs": [
    {
     "data": {
      "image/png": "[encoded data removed]",
      "text/plain": [
       "<Figure size 432x288 with 2 Axes>"
      ]
     },
     "metadata": {
      "needs_background": "light"
     },
     "output_type": "display_data"
    }
   ],
   "source": [
    "cf_matrix = confusion_matrix(y_val, y_pred_XGB)\n",
    "fig, ax = plt.subplots(figsize=(6,4))\n",
    "ax = sns.heatmap(cf_matrix, annot=True, fmt='', cmap='Greens')\n",
    "ax.set_title('Confusion Matrix\\n');\n",
    "ax.set_xlabel('\\nPredicted Values')\n",
    "ax.set_ylabel('Actual Values ');\n",
    "ax.xaxis.set_ticklabels([\"cat\",\"dog\"])\n",
    "ax.yaxis.set_ticklabels([\"cat\",\"dog\"],rotation=0)\n",
    "\n",
    "plt.show()"
   ]
  },
  {
   "cell_type": "markdown",
   "id": "ec19518e",
   "metadata": {},
   "source": [
    "### *AdaBoost Classifier:*"
   ]
  },
  {
   "cell_type": "code",
   "execution_count": 28,
   "id": "474add03",
   "metadata": {},
   "outputs": [
    {
     "name": "stdout",
     "output_type": "stream",
     "text": [
      "Accuracy: 0.615\n",
      "CPU times: total: 5min 38s\n",
      "Wall time: 5min 39s\n"
     ]
    }
   ],
   "source": [
    "%%time\n",
    "\n",
    "AdB =  AdaBoostClassifier(DecisionTreeClassifier(max_depth=1), n_estimators=200,\n",
    "                          algorithm=\"SAMME.R\", learning_rate=0.5)\n",
    "AdB.fit(X_train, y_train)\n",
    "y_pred = AdB.predict(X_val)\n",
    "\n",
    "accuracy = round(metrics.accuracy_score(y_val, y_pred),3)\n",
    "print(\"Accuracy:\", accuracy)"
   ]
  },
  {
   "cell_type": "markdown",
   "id": "d0d3cc2b",
   "metadata": {},
   "source": [
    "### *SVC:*"
   ]
  },
  {
   "cell_type": "code",
   "execution_count": 29,
   "id": "7824b8ef",
   "metadata": {},
   "outputs": [
    {
     "name": "stdout",
     "output_type": "stream",
     "text": [
      "Accuracy: 0.673\n"
     ]
    }
   ],
   "source": [
    "svc  = SVC(kernel='rbf')\n",
    "svc.fit(X_train, y_train)\n",
    "y_pred = svc.predict(X_val)\n",
    "\n",
    "accuracy = round(metrics.accuracy_score(y_val, y_pred),3)\n",
    "print(\"Accuracy:\", accuracy)"
   ]
  },
  {
   "cell_type": "markdown",
   "id": "724c60c7",
   "metadata": {},
   "source": [
    "### *Gradient Boosting Classifier:*"
   ]
  },
  {
   "cell_type": "code",
   "execution_count": 30,
   "id": "1fe9d946",
   "metadata": {
    "scrolled": false
   },
   "outputs": [
    {
     "name": "stdout",
     "output_type": "stream",
     "text": [
      "      Iter       Train Loss   Remaining Time \n",
      "         1           1.3794            7.76m\n",
      "         2           1.3731            7.67m\n",
      "         3           1.3675            7.82m\n",
      "         4           1.3624            7.83m\n",
      "         5           1.3580            7.62m\n",
      "         6           1.3535            7.45m\n",
      "         7           1.3488            7.26m\n",
      "         8           1.3452            7.15m\n",
      "         9           1.3414            7.06m\n",
      "        10           1.3371            6.93m\n",
      "        20           1.3068            6.06m\n",
      "        30           1.2841            5.33m\n",
      "        40           1.2670            4.56m\n",
      "        50           1.2505            3.83m\n",
      "        60           1.2367            3.08m\n",
      "        70           1.2226            2.32m\n",
      "        80           1.2086            1.54m\n",
      "        90           1.1967           45.84s\n",
      "       100           1.1860            0.00s\n",
      "Accuracy: 0.656\n"
     ]
    }
   ],
   "source": [
    "GBC = GradientBoostingClassifier(verbose=1).fit(X_train, y_train)\n",
    "y_pred = GBC.predict(X_val)\n",
    "\n",
    "accuracy = round(metrics.accuracy_score(y_val, y_pred),3)\n",
    "print(\"Accuracy:\", accuracy)  "
   ]
  },
  {
   "cell_type": "markdown",
   "id": "ee3ff91a",
   "metadata": {},
   "source": [
    "### Hyperparameter Tuning: "
   ]
  },
  {
   "cell_type": "code",
   "execution_count": null,
   "id": "bed3f692",
   "metadata": {},
   "outputs": [],
   "source": [
    "#Searching for better performance out of the models with RandomizedSearch"
   ]
  },
  {
   "cell_type": "code",
   "execution_count": 31,
   "id": "3188b195",
   "metadata": {
    "scrolled": true
   },
   "outputs": [
    {
     "name": "stdout",
     "output_type": "stream",
     "text": [
      "Fitting 3 folds for each of 3 candidates, totalling 9 fits\n",
      "[CV 1/3] END .......C=10, gamma=0.1, kernel=rbf;, score=0.620 total time= 8.6min\n",
      "[CV 2/3] END .......C=10, gamma=0.1, kernel=rbf;, score=0.614 total time= 5.5min\n",
      "[CV 3/3] END .......C=10, gamma=0.1, kernel=rbf;, score=0.619 total time= 9.5min\n",
      "[CV 1/3] END ........C=1, gamma=0.1, kernel=rbf;, score=0.605 total time= 9.0min\n",
      "[CV 2/3] END ........C=1, gamma=0.1, kernel=rbf;, score=0.604 total time= 8.5min\n",
      "[CV 3/3] END ........C=1, gamma=0.1, kernel=rbf;, score=0.606 total time= 9.1min\n",
      "[CV 1/3] END .......C=1, gamma=0.01, kernel=rbf;, score=0.647 total time= 3.0min\n",
      "[CV 2/3] END .......C=1, gamma=0.01, kernel=rbf;, score=0.635 total time= 2.5min\n",
      "[CV 3/3] END .......C=1, gamma=0.01, kernel=rbf;, score=0.650 total time= 3.7min\n",
      "Accuracy Score =  0.668\n"
     ]
    }
   ],
   "source": [
    "param = {'C': [1, 10, 100, 1000],\n",
    "              'gamma': [1, 0.1, 0.01],\n",
    "              'kernel': ['rbf']}\n",
    " \n",
    "random_SVC = RandomizedSearchCV(SVC(), param, verbose = 3, cv=3,n_iter=3)\n",
    "\n",
    "random_SVC.fit(X_train, y_train)\n",
    "y_pred_SVC_random = random_SVC.predict(X_val)\n",
    "print (\"Accuracy Score = \",round(metrics.accuracy_score(y_val,y_pred_SVC_random),3))"
   ]
  },
  {
   "cell_type": "code",
   "execution_count": null,
   "id": "14648984",
   "metadata": {},
   "outputs": [],
   "source": [
    "random_SVC."
   ]
  },
  {
   "cell_type": "markdown",
   "id": "87bce717",
   "metadata": {},
   "source": [
    "### Testing the final models\n",
    "- XGB\n",
    "- Voting Classifier\n",
    "- SVC"
   ]
  },
  {
   "cell_type": "code",
   "execution_count": 32,
   "id": "abaa96b7",
   "metadata": {},
   "outputs": [],
   "source": [
    "X_train, X_test, y_train, y_test = train_test_split(X,Y, test_size=0.1, random_state=42)"
   ]
  },
  {
   "cell_type": "code",
   "execution_count": 33,
   "id": "b26549a8",
   "metadata": {},
   "outputs": [],
   "source": [
    "selector = SelectKBest(chi2, k=1225)\n",
    "X_train = selector.fit_transform(X_train,y_train)\n",
    "X_test =selector.transform(X_test)"
   ]
  },
  {
   "cell_type": "code",
   "execution_count": 17,
   "id": "7531915e",
   "metadata": {},
   "outputs": [
    {
     "name": "stdout",
     "output_type": "stream",
     "text": [
      "Accuracy: 0.671\n",
      "CPU times: total: 5min 39s\n",
      "Wall time: 1min\n"
     ]
    }
   ],
   "source": [
    "%%time\n",
    "\n",
    "XGB = XGBClassifier(objective=\"binary:logistic\",random_state=42)\n",
    "XGB.fit(X_train, y_train,eval_metric='auc')\n",
    "y_pred = XGB.predict(X_test)\n",
    "accuracy = metrics.accuracy_score(y_test, y_pred)\n",
    "print(\"Accuracy:\", round(accuracy,3))"
   ]
  },
  {
   "cell_type": "code",
   "execution_count": null,
   "id": "7bb0afe9",
   "metadata": {},
   "outputs": [],
   "source": [
    "%%time\n",
    "voting_clf = VotingClassifier(estimators=[('lgb', lgb),('GBC',GBC),('nb',nb),('svc', svc),('XGB', XGBClassifier)\n",
    "                                          ,('rnd',rnd_clf),('dt',dt_clf) ,('lr', log_clf), ('knn', knn_clf),('sgd', sgd)\n",
    "                                          ],voting='hard',n_jobs=-1,)\n",
    "voting_clf.fit(X_train, y_train)\n",
    "y_pred = voting_clf.predict(X_test)\n",
    "accuracy = metrics.accuracy_score(y_test, y_pred)\n",
    "print(\"Accuracy:\", round(accuracy,3))"
   ]
  },
  {
   "cell_type": "code",
   "execution_count": 34,
   "id": "932661e4",
   "metadata": {},
   "outputs": [
    {
     "name": "stdout",
     "output_type": "stream",
     "text": [
      "Accuracy: 0.648\n",
      "CPU times: total: 14min 27s\n",
      "Wall time: 14min 31s\n"
     ]
    }
   ],
   "source": [
    "%%time\n",
    "\n",
    "svc  = SVC(kernel='rbf')\n",
    "svc.fit(X_train, y_train)\n",
    "y_pred = svc.predict(X_test)\n",
    "\n",
    "accuracy = round(metrics.accuracy_score(y_test, y_pred),3)\n",
    "print(\"Accuracy:\", accuracy)"
   ]
  },
  {
   "cell_type": "markdown",
   "id": "682684ee",
   "metadata": {},
   "source": [
    "## *Best  accuracy : 0.67*"
   ]
  }
 ],
 "metadata": {
  "kernelspec": {
   "display_name": "Python 3 (ipykernel)",
   "language": "python",
   "name": "python3"
  },
  "language_info": {
   "codemirror_mode": {
    "name": "ipython",
    "version": 3
   },
   "file_extension": ".py",
   "mimetype": "text/x-python",
   "name": "python",
   "nbconvert_exporter": "python",
   "pygments_lexer": "ipython3",
   "version": "3.9.12"
  }
 },
 "nbformat": 4,
 "nbformat_minor": 5
}
