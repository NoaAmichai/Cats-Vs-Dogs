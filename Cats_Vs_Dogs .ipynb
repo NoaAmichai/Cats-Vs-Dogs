{
 "cells": [
  {
   "cell_type": "code",
   "execution_count": 1,
   "id": "6e7aab06",
   "metadata": {},
   "outputs": [],
   "source": [
    "import pandas as pd\n",
    "import numpy as np\n",
    "import matplotlib.pyplot as plt\n",
    "import matplotlib_inline\n",
    "import os\n",
    "import warnings\n",
    "warnings.filterwarnings('ignore')\n",
    "from tqdm import tqdm\n",
    "import seaborn as sns\n",
    "from PIL import Image\n",
    "from numpy import asarray\n",
    "\n",
    "np.set_printoptions(precision=5)#show 5 number after decimal point "
   ]
  },
  {
   "cell_type": "code",
   "execution_count": 2,
   "id": "94a7e541",
   "metadata": {},
   "outputs": [],
   "source": [
    "from sklearn.metrics import classification_report\n",
    "from sklearn import metrics\n",
    "from sklearn.metrics import accuracy_score, precision_score, recall_score\n",
    "from sklearn.model_selection import cross_val_score\n",
    "from sklearn.model_selection import KFold\n",
    "from sklearn.decomposition import PCA\n",
    "from sklearn.model_selection import RandomizedSearchCV\n",
    "from sklearn.ensemble import GradientBoostingClassifier\n",
    "from sklearn.ensemble import AdaBoostClassifier\n",
    "from xgboost import XGBClassifier\n",
    "from sklearn.feature_selection import SelectKBest\n",
    "from sklearn.metrics import confusion_matrix\n",
    "from xgboost import XGBClassifier\n",
    "from sklearn.model_selection import train_test_split\n",
    "from sklearn.dummy import DummyClassifier\n",
    "from sklearn.neighbors import KNeighborsClassifier \n",
    "from sklearn.ensemble import VotingClassifier\n",
    "from sklearn.linear_model import LogisticRegression\n",
    "from sklearn.tree import DecisionTreeClassifier\n",
    "from sklearn.ensemble import RandomForestClassifier\n",
    "import lightgbm as lgb\n",
    "from sklearn.pipeline import Pipeline\n",
    "from sklearn.cluster import KMeans\n",
    "from sklearn.feature_selection import chi2\n",
    "from sklearn.naive_bayes import GaussianNB\n",
    "from sklearn.svm import SVC\n",
    "from sklearn.tree import ExtraTreeClassifier\n",
    "from sklearn.linear_model import SGDClassifier\n",
    "from sklearn.ensemble import GradientBoostingClassifier"
   ]
  },
  {
   "cell_type": "code",
   "execution_count": 3,
   "id": "a1ac6ea7",
   "metadata": {},
   "outputs": [],
   "source": [
    "url = r\"train\\\\\""
   ]
  },
  {
   "cell_type": "code",
   "execution_count": 40,
   "id": "34035f0a",
   "metadata": {},
   "outputs": [],
   "source": [
    "def create_data():\n",
    "    data = list()\n",
    "    label = 0 #cat = 1 , dog = 0\n",
    "    for img in tqdm(os.listdir(url)):\n",
    "        if img.startswith('cat'): label = 1 \n",
    "        else :label = 0 \n",
    "        im = asarray(Image.open(url+img).resize((40,40)).convert('L')) #resize and changing colors\n",
    "        data.append([im,label])\n",
    "    np.save('data.npy', data)\n",
    "    return data"
   ]
  },
  {
   "cell_type": "code",
   "execution_count": 13,
   "id": "9e010216",
   "metadata": {},
   "outputs": [
    {
     "name": "stderr",
     "output_type": "stream",
     "text": [
      "100%|████████████████████████████████████████████████████████████████████████████| 25000/25000 [04:36<00:00, 90.52it/s]\n"
     ]
    }
   ],
   "source": [
    "data = create_data()"
   ]
  },
  {
   "cell_type": "code",
   "execution_count": 4,
   "id": "80add8ac",
   "metadata": {
    "slideshow": {
     "slide_type": "-"
    }
   },
   "outputs": [],
   "source": [
    "# load the data:\n",
    "data = np.load('data.npy',allow_pickle=True)"
   ]
  },
  {
   "cell_type": "code",
   "execution_count": 5,
   "id": "c48d9ccc",
   "metadata": {},
   "outputs": [],
   "source": [
    "X = (np.array([i[0] for i in data]))\n",
    "Y = (np.array([i[1] for i in data]))"
   ]
  },
  {
   "cell_type": "code",
   "execution_count": 6,
   "id": "f0e9d816",
   "metadata": {},
   "outputs": [],
   "source": [
    "X = X /255.0"
   ]
  },
  {
   "cell_type": "code",
   "execution_count": 7,
   "id": "5f9acdb7",
   "metadata": {},
   "outputs": [
    {
     "data": {
      "text/plain": [
       "(25000, 40, 40)"
      ]
     },
     "execution_count": 7,
     "metadata": {},
     "output_type": "execute_result"
    }
   ],
   "source": [
    "X.shape"
   ]
  },
  {
   "cell_type": "code",
   "execution_count": 8,
   "id": "611e03a1",
   "metadata": {},
   "outputs": [
    {
     "data": {
      "text/plain": [
       "Text(0.5, 1.0, 'DOG')"
      ]
     },
     "execution_count": 8,
     "metadata": {},
     "output_type": "execute_result"
    },
    {
     "data": {
      "image/png": "[encoded data removed]",
      "text/plain": [
       "<Figure size 720x504 with 2 Axes>"
      ]
     },
     "metadata": {
      "needs_background": "light"
     },
     "output_type": "display_data"
    }
   ],
   "source": [
    "fig = plt.figure(figsize=(10, 7))\n",
    "  \n",
    "fig.add_subplot(1, 2, 1)\n",
    "plt.imshow(X[1,:], cmap=plt.get_cmap('gray'))\n",
    "plt.title(\"CAT\")\n",
    "\n",
    "fig.add_subplot(1, 2, 2)\n",
    "plt.imshow(X[24999,:], cmap=plt.get_cmap('gray'))\n",
    "plt.title(\"DOG\")"
   ]
  },
  {
   "cell_type": "code",
   "execution_count": 9,
   "id": "3e3e0d5f",
   "metadata": {},
   "outputs": [
    {
     "data": {
      "text/plain": [
       "(25000, 1600)"
      ]
     },
     "execution_count": 9,
     "metadata": {},
     "output_type": "execute_result"
    }
   ],
   "source": [
    "X = X.reshape((25000, 40*40))\n",
    "X.shape"
   ]
  },
  {
   "cell_type": "code",
   "execution_count": 10,
   "id": "d45723a3",
   "metadata": {},
   "outputs": [],
   "source": [
    "#split the data to train and test \n",
    "X_train, X_test, y_train, y_test = train_test_split(X,Y, test_size=0.1, random_state=42)"
   ]
  },
  {
   "cell_type": "raw",
   "id": "8a2f4bd0",
   "metadata": {},
   "source": [
    "#split the train\n",
    "X_train, X_val, y_train, y_val = train_test_split(X_train,y_train, test_size=0.1, random_state=42)"
   ]
  },
  {
   "cell_type": "code",
   "execution_count": 14,
   "id": "667ea03c",
   "metadata": {},
   "outputs": [
    {
     "name": "stdout",
     "output_type": "stream",
     "text": [
      "The DummyClassifier score is: 0.5\n"
     ]
    }
   ],
   "source": [
    "# Before we try real models, we will try a dummyClassifier. we will try to get high score than the dummyModel.\n",
    "dummy_clf = DummyClassifier(strategy=\"most_frequent\", random_state=42)\n",
    "dummy_clf.fit(X_train, y_train)\n",
    "y_pred = dummy_clf.predict(X_val)\n",
    "print(\"The DummyClassifier score is:\" ,round(accuracy_score(y_pred,y_val),2))"
   ]
  },
  {
   "cell_type": "markdown",
   "id": "988c3bf8",
   "metadata": {},
   "source": [
    "## *Models :*\n"
   ]
  },
  {
   "cell_type": "markdown",
   "id": "d3241917",
   "metadata": {},
   "source": [
    "### *Feature selection:*"
   ]
  },
  {
   "cell_type": "code",
   "execution_count": 52,
   "id": "1cbbbd00",
   "metadata": {
    "scrolled": true
   },
   "outputs": [
    {
     "name": "stdout",
     "output_type": "stream",
     "text": [
      "number of features :  400 , Accuracy: 0.566\n",
      "number of features :  500 , Accuracy: 0.584\n",
      "number of features :  600 , Accuracy: 0.592\n",
      "number of features :  700 , Accuracy: 0.597\n",
      "number of features :  800 , Accuracy: 0.593\n",
      "number of features :  900 , Accuracy: 0.59\n",
      "number of features :  1000 , Accuracy: 0.591\n",
      "number of features :  1100 , Accuracy: 0.586\n",
      "number of features :  1200 , Accuracy: 0.583\n",
      "number of features :  1300 , Accuracy: 0.584\n",
      "number of features :  1400 , Accuracy: 0.589\n",
      "number of features :  1500 , Accuracy: 0.595\n",
      "number of features :  1600 , Accuracy: 0.594\n"
     ]
    }
   ],
   "source": [
    "scores = []\n",
    "for i in range(400,1700,100):\n",
    "    X_new = SelectKBest(chi2, k=i).fit_transform(X_train, y_train)\n",
    "    X_train_new, X_val_new, y_train_new, y_val_new = train_test_split(X_new,y_train, test_size=0.1, random_state=42)\n",
    "    KNN = KNeighborsClassifier().fit(X_train_new, y_train_new)\n",
    "    y_pred = KNN.predict(X_val_new)\n",
    "    accuracy = round(metrics.accuracy_score(y_val_new, y_pred),3)\n",
    "    print(\"number of features : \", i, \", Accuracy:\", accuracy)\n",
    "    scores.append(accuracy)"
   ]
  },
  {
   "cell_type": "markdown",
   "id": "f0583748",
   "metadata": {},
   "source": [
    "> best accuracy with 700 features"
   ]
  },
  {
   "cell_type": "code",
   "execution_count": 13,
   "id": "6aaa49be",
   "metadata": {},
   "outputs": [],
   "source": [
    "X_train = SelectKBest(chi2, k=676).fit_transform(X_train, y_train)\n",
    "X_train, X_val, y_train, y_val = train_test_split(X_train,y_train, test_size=0.1, random_state=42)"
   ]
  },
  {
   "cell_type": "markdown",
   "id": "1cee1925",
   "metadata": {},
   "source": [
    "### *PCA:*"
   ]
  },
  {
   "cell_type": "code",
   "execution_count": 54,
   "id": "b92002a4",
   "metadata": {
    "scrolled": true
   },
   "outputs": [
    {
     "data": {
      "text/plain": [
       "Text(0, 0.5, 'cumulative explained variance')"
      ]
     },
     "execution_count": 54,
     "metadata": {},
     "output_type": "execute_result"
    },
    {
     "data": {
      "image/png": "[encoded data removed]",
      "text/plain": [
       "<Figure size 432x288 with 1 Axes>"
      ]
     },
     "metadata": {
      "needs_background": "light"
     },
     "output_type": "display_data"
    }
   ],
   "source": [
    "pca = PCA().fit(X_train)\n",
    "plt.plot(np.cumsum(pca.explained_variance_ratio_))\n",
    "plt.xlabel('number of components')\n",
    "plt.ylabel('cumulative explained variance')"
   ]
  },
  {
   "cell_type": "code",
   "execution_count": 55,
   "id": "9c8573de",
   "metadata": {},
   "outputs": [],
   "source": [
    "pca = PCA(n_components = 0.95,random_state=42)\n",
    "X_reduced_train= pca.fit_transform(X_train)\n",
    "X_reduced_test = pca.transform(X_val)"
   ]
  },
  {
   "cell_type": "code",
   "execution_count": 56,
   "id": "8a7be1fc",
   "metadata": {},
   "outputs": [
    {
     "data": {
      "text/plain": [
       "(20250, 116)"
      ]
     },
     "execution_count": 56,
     "metadata": {},
     "output_type": "execute_result"
    }
   ],
   "source": [
    "X_reduced_train.shape"
   ]
  },
  {
   "cell_type": "raw",
   "id": "0bf0bcae",
   "metadata": {
    "scrolled": true
   },
   "source": [
    "fig = plt.figure(figsize=(10, 7))\n",
    "X_recovered = pca.inverse_transform(X_reduced_train)\n",
    "  \n",
    "fig.add_subplot(1, 2, 1)\n",
    "plt.imshow(X_train[2,:].reshape(26,26), cmap=plt.get_cmap('gray'))\n",
    "plt.title(\"Before PCA\")\n",
    "\n",
    "fig.add_subplot(1, 2, 2)\n",
    "plt.imshow(X_recovered[2,:].reshape(26,26), cmap=plt.get_cmap('gray'))\n",
    "plt.title(\"After PCA\")"
   ]
  },
  {
   "cell_type": "markdown",
   "id": "38a302c5",
   "metadata": {},
   "source": [
    "### *XGBoost with PCA:*"
   ]
  },
  {
   "cell_type": "code",
   "execution_count": 60,
   "id": "3e1a6cd0",
   "metadata": {},
   "outputs": [
    {
     "name": "stdout",
     "output_type": "stream",
     "text": [
      "Accuracy: 0.615\n",
      "CPU times: total: 57.2 s\n",
      "Wall time: 10.5 s\n"
     ]
    }
   ],
   "source": [
    "%%time\n",
    "\n",
    "XGB = XGBClassifier(objective=\"binary:logistic\")\n",
    "XGB.fit(X_reduced_train, y_train,eval_metric='auc')\n",
    "y_pred = XGB.predict(X_reduced_test)      \n",
    "accuracy = metrics.accuracy_score(y_val, y_pred)\n",
    "print(\"Accuracy:\", round(accuracy,3))"
   ]
  },
  {
   "cell_type": "markdown",
   "id": "e1cd5bd5",
   "metadata": {},
   "source": [
    "### *Random Forest with PCA:*"
   ]
  },
  {
   "cell_type": "code",
   "execution_count": 61,
   "id": "c69ce4bc",
   "metadata": {},
   "outputs": [
    {
     "name": "stdout",
     "output_type": "stream",
     "text": [
      "Accuracy: 0.594\n",
      "CPU times: total: 17.9 s\n",
      "Wall time: 17.9 s\n"
     ]
    }
   ],
   "source": [
    "%%time\n",
    "\n",
    "RFC = RandomForestClassifier(random_state=42)\n",
    "RFC.fit(X_reduced_train, y_train)\n",
    "y_predict_RFC = RFC.predict(X_reduced_test)\n",
    "accuracy = round(metrics.accuracy_score(y_val,y_predict_RFC),3)\n",
    "print(\"Accuracy:\", accuracy)"
   ]
  },
  {
   "cell_type": "markdown",
   "id": "f1355724",
   "metadata": {},
   "source": [
    "### *VotingClassifier :*"
   ]
  },
  {
   "cell_type": "code",
   "execution_count": 62,
   "id": "c8900e9d",
   "metadata": {},
   "outputs": [
    {
     "name": "stdout",
     "output_type": "stream",
     "text": [
      "LGBMClassifier 0.619\n",
      "GradientBoostingClassifier 0.613\n",
      "XGBClassifier 0.615\n",
      "RandomForestClassifier 0.602\n",
      "SVC 0.651\n",
      "GaussianNB 0.586\n",
      "SGDClassifier 0.56\n",
      "DecisionTreeClassifier 0.528\n",
      "LogisticRegression 0.574\n",
      "KNeighborsClassifier 0.585\n",
      "VotingClassifier 0.632\n"
     ]
    }
   ],
   "source": [
    "lgb = lgb.LGBMClassifier()\n",
    "dt_clf = DecisionTreeClassifier()\n",
    "log_clf = LogisticRegression()\n",
    "knn_clf = KNeighborsClassifier()\n",
    "rnd_clf = RandomForestClassifier()\n",
    "svc  = SVC(kernel='rbf')\n",
    "nb = GaussianNB()\n",
    "GBC = GradientBoostingClassifier()\n",
    "sgd = SGDClassifier(loss='modified_huber')\n",
    "XGBClassifier = XGBClassifier(objective= 'binary:logistic',eval_metric='auc')\n",
    "\n",
    "voting_clf = VotingClassifier(estimators=[('lgb', lgb),('GBC',GBC),('nb',nb),('svc', svc),('XGB', XGBClassifier),('rnd',rnd_clf),\n",
    "                                          ('dt',dt_clf) ,('lr', log_clf), ('knn', knn_clf),('sgd', sgd)\n",
    "                                          ],voting='hard',n_jobs=-1,)\n",
    "voting_clf.fit(X_reduced_train, y_train)\n",
    "\n",
    "for clf in (lgb,GBC, XGBClassifier, rnd_clf,svc , nb,sgd , dt_clf, log_clf, knn_clf, voting_clf):\n",
    "    clf.fit(X_reduced_train, y_train)\n",
    "    y_pred = clf.predict(X_reduced_test)\n",
    "    print(clf.__class__.__name__, round(accuracy_score(y_val, y_pred),3))"
   ]
  },
  {
   "cell_type": "code",
   "execution_count": null,
   "id": "dc94fcb0",
   "metadata": {},
   "outputs": [],
   "source": [
    "# We didn't get impressive scores with PCA, we will try to get higher scores with clustering."
   ]
  },
  {
   "cell_type": "markdown",
   "id": "00eec3e3",
   "metadata": {},
   "source": [
    "### *KMeans :*"
   ]
  },
  {
   "cell_type": "code",
   "execution_count": 74,
   "id": "40244d97",
   "metadata": {
    "scrolled": true
   },
   "outputs": [
    {
     "data": {
      "text/plain": [
       "0.576"
      ]
     },
     "execution_count": 74,
     "metadata": {},
     "output_type": "execute_result"
    }
   ],
   "source": [
    "pipeline = Pipeline([\n",
    " (\"kmeans\", KMeans(n_clusters=20)),\n",
    " (\"XGB\", XGBClassifier(objective=\"binary:logistic\",eval_metric='auc'))])\n",
    "\n",
    "pipeline.fit(X_train, y_train)\n",
    "y_predict_pipe = pipeline.predict(X_val)\n",
    "round(metrics.accuracy_score(y_val,y_predict_pipe),3)"
   ]
  },
  {
   "cell_type": "code",
   "execution_count": 73,
   "id": "60e49ff9",
   "metadata": {},
   "outputs": [
    {
     "data": {
      "text/plain": [
       "0.561"
      ]
     },
     "execution_count": 73,
     "metadata": {},
     "output_type": "execute_result"
    }
   ],
   "source": [
    "pipeline = Pipeline([\n",
    " (\"kmeans\", KMeans(n_clusters=20)),\n",
    " (\"Random Forest\", RandomForestClassifier(random_state=42))])\n",
    "\n",
    "pipeline.fit(X_train, y_train)\n",
    "y_predict_pipe = pipeline.predict(X_val)\n",
    "round(metrics.accuracy_score(y_val,y_predict_pipe),3)"
   ]
  },
  {
   "cell_type": "markdown",
   "id": "eb847fcf",
   "metadata": {},
   "source": [
    "### *Random Forest Classifier :*"
   ]
  },
  {
   "cell_type": "code",
   "execution_count": 75,
   "id": "ee052414",
   "metadata": {},
   "outputs": [
    {
     "name": "stdout",
     "output_type": "stream",
     "text": [
      "Accuracy: 0.639\n",
      "CPU times: total: 29 s\n",
      "Wall time: 29.1 s\n"
     ]
    }
   ],
   "source": [
    "%%time\n",
    "\n",
    "RF = RandomForestClassifier(random_state=42)\n",
    "RF.fit(X_train, y_train)\n",
    "y_pred_RF = RF.predict(X_val)\n",
    "accuracy = round(metrics.accuracy_score(y_val,y_pred_RF),3)\n",
    "print(\"Accuracy:\", accuracy)"
   ]
  },
  {
   "cell_type": "markdown",
   "id": "b6fe7e35",
   "metadata": {},
   "source": [
    "### *XGB Classifier:*"
   ]
  },
  {
   "cell_type": "code",
   "execution_count": 76,
   "id": "696a8858",
   "metadata": {},
   "outputs": [
    {
     "name": "stdout",
     "output_type": "stream",
     "text": [
      "Accuracy: 0.645\n",
      "CPU times: total: 2min 2s\n",
      "Wall time: 21.8 s\n"
     ]
    }
   ],
   "source": [
    "%%time\n",
    "\n",
    "XGBoost = XGBClassifier(objective=\"binary:logistic\", random_state=42)\n",
    "XGBoost.fit(X_train, y_train, eval_metric='auc')\n",
    "y_pred_XGB = XGBoost.predict(X_val)\n",
    "\n",
    "accuracy = round(metrics.accuracy_score(y_val, y_pred_XGB),3)\n",
    "print(\"Accuracy:\", accuracy)"
   ]
  },
  {
   "cell_type": "code",
   "execution_count": 78,
   "id": "58b30ccc",
   "metadata": {
    "scrolled": true
   },
   "outputs": [
    {
     "data": {
      "image/png": "[encoded data removed]",
      "text/plain": [
       "<Figure size 432x288 with 2 Axes>"
      ]
     },
     "metadata": {
      "needs_background": "light"
     },
     "output_type": "display_data"
    }
   ],
   "source": [
    "cf_matrix = confusion_matrix(y_val, y_pred_XGB)\n",
    "fig, ax = plt.subplots(figsize=(6,4))\n",
    "ax = sns.heatmap(cf_matrix, annot=True, fmt='', cmap='Greens')\n",
    "ax.set_title('Confusion Matrix\\n');\n",
    "ax.set_xlabel('\\nPredicted Values')\n",
    "ax.set_ylabel('Actual Values ');\n",
    "ax.xaxis.set_ticklabels([\"cat\",\"dog\"])\n",
    "ax.yaxis.set_ticklabels([\"cat\",\"dog\"],rotation=0)\n",
    "\n",
    "plt.show()"
   ]
  },
  {
   "cell_type": "markdown",
   "id": "ec19518e",
   "metadata": {},
   "source": [
    "### *AdaBoost Classifier:*"
   ]
  },
  {
   "cell_type": "code",
   "execution_count": 79,
   "id": "474add03",
   "metadata": {},
   "outputs": [
    {
     "name": "stdout",
     "output_type": "stream",
     "text": [
      "Accuracy: 0.604\n",
      "CPU times: total: 3min 22s\n",
      "Wall time: 3min 26s\n"
     ]
    }
   ],
   "source": [
    "%%time\n",
    "\n",
    "AdB =  AdaBoostClassifier(DecisionTreeClassifier(max_depth=1), n_estimators=200,\n",
    "                          algorithm=\"SAMME.R\", learning_rate=0.5)\n",
    "AdB.fit(X_train, y_train)\n",
    "y_pred = AdB.predict(X_val)\n",
    "\n",
    "accuracy = round(metrics.accuracy_score(y_val, y_pred),3)\n",
    "print(\"Accuracy:\", accuracy)\n",
    "#print(\"Classification Report: \\n\", metrics.classification_report(y_test, y_pred))"
   ]
  },
  {
   "cell_type": "markdown",
   "id": "d0d3cc2b",
   "metadata": {},
   "source": [
    "### *SVC:*"
   ]
  },
  {
   "cell_type": "code",
   "execution_count": 80,
   "id": "7824b8ef",
   "metadata": {},
   "outputs": [
    {
     "name": "stdout",
     "output_type": "stream",
     "text": [
      "Accuracy: 0.644\n"
     ]
    }
   ],
   "source": [
    "svc  = SVC(kernel='rbf')\n",
    "svc.fit(X_train, y_train)\n",
    "y_pred = svc.predict(X_val)\n",
    "\n",
    "accuracy = round(metrics.accuracy_score(y_val, y_pred),3)\n",
    "print(\"Accuracy:\", accuracy)"
   ]
  },
  {
   "cell_type": "markdown",
   "id": "724c60c7",
   "metadata": {},
   "source": [
    "### *Gradient Boosting Classifier:*"
   ]
  },
  {
   "cell_type": "code",
   "execution_count": 95,
   "id": "1fe9d946",
   "metadata": {
    "scrolled": false
   },
   "outputs": [
    {
     "name": "stdout",
     "output_type": "stream",
     "text": [
      "      Iter       Train Loss   Remaining Time \n",
      "         1           1.3794            9.62m\n",
      "         2           1.3730            9.25m\n",
      "         3           1.3673            8.89m\n",
      "         4           1.3623            8.66m\n",
      "         5           1.3576            8.54m\n",
      "         6           1.3534            8.90m\n",
      "         7           1.3491            8.92m\n",
      "         8           1.3444            8.91m\n",
      "         9           1.3406            9.00m\n",
      "        10           1.3367            9.05m\n",
      "        20           1.3064            8.53m\n",
      "        30           1.2824            7.47m\n",
      "        40           1.2652            6.50m\n",
      "        50           1.2492            5.50m\n",
      "        60           1.2341            4.41m\n",
      "        70           1.2202            3.30m\n",
      "        80           1.2071            2.19m\n",
      "        90           1.1947            1.10m\n",
      "       100           1.1836            0.00s\n",
      "Accuracy: 0.649\n"
     ]
    }
   ],
   "source": [
    "GBC = GradientBoostingClassifier(verbose=1).fit(X_train, y_train)\n",
    "y_pred = GBC.predict(X_val)\n",
    "\n",
    "accuracy = round(metrics.accuracy_score(y_val, y_pred),3)\n",
    "print(\"Accuracy:\", accuracy)\n",
    "#print(\"Classification Report: \\n\", metrics.classification_report(y_test, y_pred))    "
   ]
  },
  {
   "cell_type": "markdown",
   "id": "416edcf9",
   "metadata": {},
   "source": [
    "### Hyperparameter Tuning: "
   ]
  },
  {
   "cell_type": "code",
   "execution_count": null,
   "id": "a4e8f70f",
   "metadata": {},
   "outputs": [],
   "source": [
    "#Searching for better performance out of the models with RandomizedSearch"
   ]
  },
  {
   "cell_type": "code",
   "execution_count": null,
   "id": "68321341",
   "metadata": {},
   "outputs": [
    {
     "name": "stdout",
     "output_type": "stream",
     "text": [
      "Fitting 2 folds for each of 5 candidates, totalling 10 fits\n",
      "[CV 1/2] END .........C=10, gamma=1, kernel=rbf;, score=0.503 total time= 2.5min\n",
      "[CV 2/2] END .........C=10, gamma=1, kernel=rbf;, score=0.502 total time= 2.4min\n",
      "[CV 1/2] END ........C=100, gamma=1, kernel=rbf;, score=0.503 total time= 2.3min\n",
      "[CV 2/2] END ........C=100, gamma=1, kernel=rbf;, score=0.502 total time= 2.3min\n",
      "[CV 1/2] END ........C=1, gamma=0.1, kernel=rbf;, score=0.624 total time= 1.5min\n",
      "[CV 2/2] END ........C=1, gamma=0.1, kernel=rbf;, score=0.622 total time= 1.5min\n",
      "[CV 1/2] END .......C=10, gamma=0.1, kernel=rbf;, score=0.619 total time= 2.6min\n"
     ]
    }
   ],
   "source": [
    "param = {'C': [1, 10, 100, 1000],\n",
    "              'gamma': [1, 0.1, 0.01],\n",
    "              'kernel': ['rbf']}\n",
    " \n",
    "random_SVC = RandomizedSearchCV(SVC(), param, verbose = 3, cv=2,n_iter=5)\n",
    "\n",
    "random_SVC.fit(X_train, y_train)\n",
    "y_pred_SVC_random = random_SVC.predict(X_val)\n",
    "print (\"Accuracy Score = \",round(metrics.accuracy_score(y_val,y_pred_SVC_random),3))"
   ]
  },
  {
   "cell_type": "code",
   "execution_count": null,
   "id": "1826113f",
   "metadata": {
    "scrolled": false
   },
   "outputs": [],
   "source": []
  },
  {
   "cell_type": "markdown",
   "id": "87bce717",
   "metadata": {},
   "source": [
    "### testing the final models\n",
    "- XGB\n",
    "- Voting Classifier\n",
    "- SVC"
   ]
  },
  {
   "cell_type": "code",
   "execution_count": 24,
   "id": "abaa96b7",
   "metadata": {},
   "outputs": [],
   "source": [
    "X_train, X_test, y_train, y_test = train_test_split(X,Y, test_size=0.1, random_state=42)"
   ]
  },
  {
   "cell_type": "code",
   "execution_count": null,
   "id": "df866097",
   "metadata": {},
   "outputs": [],
   "source": [
    "selector = SelectKBest(chi2, k=676)\n",
    "X_train = selector.fit_transform(X_train,y_train)\n",
    "X_test =selector.transform(X_test)"
   ]
  },
  {
   "cell_type": "code",
   "execution_count": null,
   "id": "03b3c680",
   "metadata": {},
   "outputs": [],
   "source": [
    "%%time\n",
    "\n",
    "XGB = XGBClassifier(objective=\"binary:logistic\",random_state=42)\n",
    "XGB.fit(X_train, y_train,eval_metric='auc')\n",
    "y_pred = XGB.predict(X_test)\n",
    "accuracy = metrics.accuracy_score(y_test, y_pred)\n",
    "print(\"Accuracy:\", round(accuracy,3))"
   ]
  },
  {
   "cell_type": "code",
   "execution_count": 25,
   "id": "7bb0afe9",
   "metadata": {},
   "outputs": [
    {
     "name": "stdout",
     "output_type": "stream",
     "text": [
      "Accuracy: 0.658\n",
      "CPU times: total: 6min 12s\n",
      "Wall time: 1min 1s\n"
     ]
    }
   ],
   "source": [
    "%%time\n",
    "lgb = lgb.LGBMClassifier()\n",
    "dt_clf = DecisionTreeClassifier()\n",
    "log_clf = LogisticRegression()\n",
    "knn_clf = KNeighborsClassifier()\n",
    "rnd_clf = RandomForestClassifier()\n",
    "svc  = SVC(kernel='rbf')\n",
    "nb = GaussianNB()\n",
    "GBC = GradientBoostingClassifier()\n",
    "sgd = SGDClassifier(loss='modified_huber')\n",
    "XGBClassifier = XGBClassifier(objective= 'binary:logistic',eval_metric='auc')\n",
    "\n",
    "voting_clf = VotingClassifier(estimators=[('lgb', lgb),('GBC',GBC),('nb',nb),('svc', svc),('XGB', XGBClassifier),('rnd',rnd_clf),\n",
    "                                          ('dt',dt_clf) ,('lr', log_clf), ('knn', knn_clf),('sgd', sgd)\n",
    "                                          ],voting='hard',n_jobs=-1,)\n",
    "voting_clf.fit(X_train, y_train)\n",
    "y_pred = voting_clf.predict(X_test)\n",
    "accuracy = metrics.accuracy_score(y_test, y_pred)\n",
    "print(\"Accuracy:\", round(accuracy,3))\n"
   ]
  },
  {
   "cell_type": "code",
   "execution_count": 26,
   "id": "932661e4",
   "metadata": {},
   "outputs": [
    {
     "name": "stdout",
     "output_type": "stream",
     "text": [
      "Accuracy: 0.652\n",
      "CPU times: total: 17min 26s\n",
      "Wall time: 33min 43s\n"
     ]
    }
   ],
   "source": [
    "%%time\n",
    "svc.fit(X_train, y_train)\n",
    "y_pred = svc.predict(X_test)\n",
    "\n",
    "accuracy = round(metrics.accuracy_score(y_test, y_pred),3)\n",
    "print(\"Accuracy:\", accuracy)"
   ]
  },
  {
   "cell_type": "code",
   "execution_count": 27,
   "id": "4455f6fd",
   "metadata": {},
   "outputs": [],
   "source": [
    "pca = PCA(n_components = 0.95)\n",
    "pca.fit(X_train)\n",
    "X_reduced_train = pca.transform(X_train)\n",
    "X_reduced_test = pca.transform(X_test)"
   ]
  },
  {
   "cell_type": "code",
   "execution_count": 28,
   "id": "2680004a",
   "metadata": {},
   "outputs": [
    {
     "name": "stdout",
     "output_type": "stream",
     "text": [
      "Accuracy: 0.627\n",
      "CPU times: total: 9min 51s\n",
      "Wall time: 1min 18s\n"
     ]
    }
   ],
   "source": [
    "%%time\n",
    "XGB = XGBClassifier(objective=\"binary:logistic\")\n",
    "XGB.fit(X_reduced_train, y_train,eval_metric='auc')\n",
    "y_pred = XGB.predict(X_reduced_test)\n",
    "accuracy = metrics.accuracy_score(y_test, y_pred)\n",
    "print(\"Accuracy:\", round(accuracy,3))"
   ]
  },
  {
   "cell_type": "code",
   "execution_count": null,
   "id": "b9ea2712",
   "metadata": {},
   "outputs": [],
   "source": []
  },
  {
   "cell_type": "markdown",
   "id": "682684ee",
   "metadata": {},
   "source": [
    "## *The best model accuracy : 0.676*"
   ]
  },
  {
   "cell_type": "code",
   "execution_count": null,
   "id": "6565e64f",
   "metadata": {},
   "outputs": [],
   "source": []
  }
 ],
 "metadata": {
  "kernelspec": {
   "display_name": "Python 3 (ipykernel)",
   "language": "python",
   "name": "python3"
  },
  "language_info": {
   "codemirror_mode": {
    "name": "ipython",
    "version": 3
   },
   "file_extension": ".py",
   "mimetype": "text/x-python",
   "name": "python",
   "nbconvert_exporter": "python",
   "pygments_lexer": "ipython3",
   "version": "3.9.12"
  }
 },
 "nbformat": 4,
 "nbformat_minor": 5
}
