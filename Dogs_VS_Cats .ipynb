{
 "cells": [
  {
   "cell_type": "code",
   "execution_count": 339,
   "id": "6e7aab06",
   "metadata": {},
   "outputs": [],
   "source": [
    "import pandas as pd\n",
    "import numpy as np\n",
    "import matplotlib.pyplot as plt\n",
    "import tensorflow as tf\n",
    "from random import shuffle\n",
    "import os\n",
    "import cv2\n",
    "import warnings\n",
    "warnings.filterwarnings('ignore')\n",
    "from tqdm import tqdm \n",
    "import seaborn as sns\n",
    "\n",
    "\n",
    "np.set_printoptions(precision=5)#show 5 number after decimal point "
   ]
  },
  {
   "cell_type": "code",
   "execution_count": 340,
   "id": "a1ac6ea7",
   "metadata": {},
   "outputs": [],
   "source": [
    "TRAIN_DIR = r\"C:\\Users\\noa12\\OneDrive\\מסמכים\\GitHub\\Dogs_Vs_Cats_Project\\train\"\n",
    "TEST_DIR = r\"C:\\Users\\noa12\\OneDrive\\מסמכים\\GitHub\\Dogs_Vs_Cats_Project\\test\"\n",
    "imgSize = 50"
   ]
  },
  {
   "cell_type": "code",
   "execution_count": 341,
   "id": "e0d3862f",
   "metadata": {},
   "outputs": [],
   "source": [
    "def label_img(img):\n",
    "    word_label = img.split('.')[-3]\n",
    "    if word_label == 'cat': return \"0\"\n",
    "    elif word_label == 'dog': return \"1\""
   ]
  },
  {
   "cell_type": "code",
   "execution_count": 342,
   "id": "3b3445aa",
   "metadata": {},
   "outputs": [],
   "source": [
    "def create_train_data():\n",
    "    training_data = []\n",
    "    for img in tqdm(os.listdir(TRAIN_DIR)):\n",
    "        label = label_img(img)\n",
    "        path = os.path.join(\"train\\\\\",img)\n",
    "        img = cv2.imread(path,cv2.IMREAD_GRAYSCALE)\n",
    "        img = cv2.resize(img, (imgSize,imgSize))\n",
    "        training_data.append([np.array(img),np.array(label)])\n",
    "    shuffle(training_data)\n",
    "    np.save('train_data.npy', training_data)\n",
    "    return training_data"
   ]
  },
  {
   "cell_type": "code",
   "execution_count": 343,
   "id": "1fe1a7b6",
   "metadata": {},
   "outputs": [],
   "source": [
    "def process_test_data():\n",
    "    testing_data = []\n",
    "    for img in tqdm(os.listdir(TEST_DIR)):\n",
    "        path = os.path.join(\"test\\\\\",img)\n",
    "        img_num = img.split('.')[0]\n",
    "        img = cv2.imread(path,cv2.IMREAD_GRAYSCALE)\n",
    "        img = cv2.resize(img, (imgSize,imgSize))\n",
    "        testing_data.append([np.array(img), img_num])\n",
    "        \n",
    "    shuffle(testing_data)\n",
    "    np.save('test_data.npy', testing_data)\n",
    "    return testing_data"
   ]
  },
  {
   "cell_type": "markdown",
   "id": "947ac118",
   "metadata": {},
   "source": [
    "```python\n",
    "train_data = create_train_data()\n",
    "``` "
   ]
  },
  {
   "cell_type": "code",
   "execution_count": 344,
   "id": "184ab24c",
   "metadata": {},
   "outputs": [],
   "source": [
    "# If you have already created the dataset:\n",
    "train_data = np.load('train_data.npy',allow_pickle=True)"
   ]
  },
  {
   "cell_type": "raw",
   "id": "78ef6982",
   "metadata": {},
   "source": [
    "test_data = process_test_data()"
   ]
  },
  {
   "cell_type": "raw",
   "id": "932cd74c",
   "metadata": {},
   "source": [
    "test_data = np.load('test_data.npy',allow_pickle=True)"
   ]
  },
  {
   "cell_type": "raw",
   "id": "b870f70c",
   "metadata": {},
   "source": [
    "X_test = np.array([i[0] for i in test_data])/255.0"
   ]
  },
  {
   "cell_type": "code",
   "execution_count": 345,
   "id": "c48d9ccc",
   "metadata": {},
   "outputs": [],
   "source": [
    "X = np.array([i[0] for i in train_data])\n",
    "Y = np.array([i[1] for i in train_data])"
   ]
  },
  {
   "cell_type": "code",
   "execution_count": 346,
   "id": "c331048f",
   "metadata": {},
   "outputs": [],
   "source": [
    "from sklearn.model_selection import train_test_split\n",
    "#split the data\n",
    "X_train, X_test, y_train, y_test = train_test_split(X,Y, test_size=0.2, random_state=42)"
   ]
  },
  {
   "cell_type": "code",
   "execution_count": 362,
   "id": "771c6127",
   "metadata": {},
   "outputs": [],
   "source": [
    "X_train = X_train / 255.0\n",
    "X_test = X_test / 255.0"
   ]
  },
  {
   "cell_type": "code",
   "execution_count": 363,
   "id": "18384332",
   "metadata": {},
   "outputs": [
    {
     "data": {
      "text/plain": [
       "array(['0', '1', '0', ..., '1', '0', '1'], dtype='<U1')"
      ]
     },
     "execution_count": 363,
     "metadata": {},
     "output_type": "execute_result"
    }
   ],
   "source": [
    "y_test"
   ]
  },
  {
   "cell_type": "code",
   "execution_count": 364,
   "id": "aa704089",
   "metadata": {},
   "outputs": [
    {
     "name": "stdout",
     "output_type": "stream",
     "text": [
      "X_train.shape : (20000, 2500)\n",
      "y_train.shape : (20000,)\n",
      "X_test.shape : (5000, 2500)\n",
      "y_test.shape : (5000,)\n"
     ]
    }
   ],
   "source": [
    "print(\"X_train.shape :\" ,X_train.shape)\n",
    "print(\"y_train.shape :\", y_train.shape)\n",
    "print (\"X_test.shape :\" , X_test.shape)\n",
    "print(\"y_test.shape :\", y_test.shape)"
   ]
  },
  {
   "cell_type": "code",
   "execution_count": 365,
   "id": "7dac3ad9",
   "metadata": {},
   "outputs": [
    {
     "name": "stdout",
     "output_type": "stream",
     "text": [
      "X_train.shape : (20000, 2500)\n",
      "X_test.shape : (5000, 2500)\n"
     ]
    }
   ],
   "source": [
    "X_train = X_train.reshape((20000, 50*50))\n",
    "X_test = X_test.reshape((5000,50*50))\n",
    "print(\"X_train.shape :\" ,X_train.shape)\n",
    "print (\"X_test.shape :\" , X_test.shape)"
   ]
  },
  {
   "cell_type": "code",
   "execution_count": 366,
   "id": "896c74cd",
   "metadata": {},
   "outputs": [],
   "source": [
    "class_names = {0:\"cat\", 1:\"dog\"}"
   ]
  },
  {
   "cell_type": "code",
   "execution_count": 367,
   "id": "e60eaf8d",
   "metadata": {},
   "outputs": [
    {
     "name": "stdout",
     "output_type": "stream",
     "text": [
      "y_train : {'0': 10051, '1': 9949}\n",
      "y_test : {'0': 2449, '1': 2551}\n"
     ]
    }
   ],
   "source": [
    "#check that the data is balanced\n",
    "unique, counts = np.unique(y_train, return_counts=True)\n",
    "print(\"y_train :\", dict(zip(unique, counts)))\n",
    "\n",
    "unique, counts = np.unique(y_test, return_counts=True)\n",
    "print(\"y_test :\", dict(zip(unique, counts)))"
   ]
  },
  {
   "cell_type": "code",
   "execution_count": 368,
   "id": "667ea03c",
   "metadata": {},
   "outputs": [
    {
     "name": "stdout",
     "output_type": "stream",
     "text": [
      "The DummyClassifier score is: 0.4898\n"
     ]
    }
   ],
   "source": [
    "# Before we try real models, we will try a dummyClassifier. we will try to get high score than the dummyModel.\n",
    "from sklearn.dummy import DummyClassifier\n",
    "dummy_clf = DummyClassifier(strategy=\"most_frequent\", random_state=42)\n",
    "dummy_clf.fit(X_train, y_train)\n",
    "y_pred = dummy_clf.predict(X_test)\n",
    "print(\"The DummyClassifier score is:\" ,accuracy_score(y_pred,y_test))"
   ]
  },
  {
   "cell_type": "code",
   "execution_count": 369,
   "id": "e1e82a18",
   "metadata": {},
   "outputs": [],
   "source": [
    "from sklearn.metrics import classification_report\n",
    "from sklearn import metrics\n",
    "from sklearn.metrics import accuracy_score, precision_score, recall_score"
   ]
  },
  {
   "cell_type": "code",
   "execution_count": 370,
   "id": "38089a98",
   "metadata": {},
   "outputs": [
    {
     "name": "stdout",
     "output_type": "stream",
     "text": [
      "Accuracy: 0.5258\n"
     ]
    }
   ],
   "source": [
    "# Logistic Regression\n",
    "from sklearn.linear_model import LogisticRegression\n",
    "\n",
    "LR = LogisticRegression(random_state=42).fit(X_train, y_train)\n",
    "y_pred = LR.predict(X_test)\n",
    "accuracy = metrics.accuracy_score(y_test, y_pred)\n",
    "print(\"Accuracy:\", accuracy)\n",
    "#print(\"Classification Report: \\n\", metrics.classification_report(y_test, y_pred))"
   ]
  },
  {
   "cell_type": "code",
   "execution_count": 371,
   "id": "387fb728",
   "metadata": {},
   "outputs": [
    {
     "name": "stdout",
     "output_type": "stream",
     "text": [
      "precision_score: 0.476\n",
      "Accuracy: 0.477\n"
     ]
    }
   ],
   "source": [
    "#KNN\n",
    "from sklearn.neighbors import KNeighborsClassifier\n",
    "\n",
    "KNN = KNeighborsClassifier().fit(X_train, y_train)\n",
    "y_pred = KNN.predict(X_test)\n",
    "precision = round(metrics.precision_score(y_test, y_pred, average=\"weighted\"),3)            \n",
    "accuracy = round(metrics.accuracy_score(y_test, y_pred),3)\n",
    "print(\"precision_score:\", precision)\n",
    "print(\"Accuracy:\", accuracy)\n",
    "#print(\"Classification Report: \\n\", metrics.classification_report(y_test, y_pred))"
   ]
  },
  {
   "cell_type": "code",
   "execution_count": 372,
   "id": "ecdc4ba6",
   "metadata": {},
   "outputs": [
    {
     "name": "stdout",
     "output_type": "stream",
     "text": [
      "Accuracy: 0.4898\n"
     ]
    }
   ],
   "source": [
    "# Naive Bayes\n",
    "from sklearn.naive_bayes import GaussianNB\n",
    "\n",
    "NB = GaussianNB().fit(X_train, y_train)\n",
    "y_pred = NB.predict(X_test)\n",
    "accuracy = metrics.accuracy_score(y_test, y_pred)\n",
    "print(\"Accuracy:\", accuracy)\n",
    "#print(\"Classification Report: \\n\", metrics.classification_report(y_test, y_pred))"
   ]
  },
  {
   "cell_type": "code",
   "execution_count": null,
   "id": "aebead07",
   "metadata": {},
   "outputs": [],
   "source": [
    "# RandomForestClassifier\n",
    "from sklearn.ensemble import RandomForestClassifier\n",
    "\n",
    "RF = RandomForestClassifier(random_state=42).fit(X_train, y_train)\n",
    "y_pred = RF.predict(X_test)\n",
    "accuracy = metrics.accuracy_score(y_test, y_pred)\n",
    "print(\"Accuracy:\", accuracy)\n",
    "#print(\"Classification Report: \\n\", metrics.classification_report(y_test, y_pred))"
   ]
  },
  {
   "cell_type": "code",
   "execution_count": null,
   "id": "2d52a3c7",
   "metadata": {},
   "outputs": [],
   "source": [
    "from sklearn.metrics import confusion_matrix\n",
    "\n",
    "cf_matrix = confusion_matrix(y_test, y_pred)\n",
    "fig, ax = plt.subplots(figsize=(6,4))\n",
    "ax = sns.heatmap(cf_matrix, annot=True, fmt='', cmap='Greens')\n",
    "ax.set_title('Confusion Matrix\\n');\n",
    "ax.set_xlabel('\\nPredicted Values')\n",
    "ax.set_ylabel('Actual Values ');\n",
    "ax.xaxis.set_ticklabels([\"cat\",\"dog\"])\n",
    "ax.yaxis.set_ticklabels([\"cat\",\"dog\"],rotation=0)\n",
    "\n",
    "plt.show()"
   ]
  },
  {
   "cell_type": "code",
   "execution_count": 291,
   "id": "dafdb152",
   "metadata": {},
   "outputs": [
    {
     "name": "stdout",
     "output_type": "stream",
     "text": [
      "precision_score: 0.656\n",
      "Accuracy: 0.656\n"
     ]
    }
   ],
   "source": [
    "from xgboost import XGBClassifier\n",
    "\n",
    "XGB = XGBClassifier()\n",
    "XGB.fit(X_train, y_train,eval_metric='rmse')\n",
    "y_pred = XGB.predict(X_test)\n",
    "\n",
    "precision = round(metrics.precision_score(y_test, y_pred, average=\"weighted\"),3)            \n",
    "accuracy = round(metrics.accuracy_score(y_test, y_pred),3)\n",
    "print(\"precision_score:\", precision)\n",
    "print(\"Accuracy:\", accuracy)\n",
    "#print(\"Classification Report: \\n\", metrics.classification_report(y_test, y_pred))"
   ]
  },
  {
   "cell_type": "code",
   "execution_count": null,
   "id": "cc580f5a",
   "metadata": {},
   "outputs": [],
   "source": [
    "print(pd.array(y_pred).value_counts())\n",
    "print(pd.array(y_test).value_counts())"
   ]
  },
  {
   "cell_type": "code",
   "execution_count": null,
   "id": "0e01e030",
   "metadata": {},
   "outputs": [],
   "source": [
    "print('True:', y_test[0:15])\n",
    "print('False:', y_pred[0:15])"
   ]
  },
  {
   "cell_type": "code",
   "execution_count": null,
   "id": "aac24500",
   "metadata": {},
   "outputs": [],
   "source": []
  },
  {
   "cell_type": "code",
   "execution_count": null,
   "id": "124e9c13",
   "metadata": {},
   "outputs": [],
   "source": []
  }
 ],
 "metadata": {
  "kernelspec": {
   "display_name": "Python 3 (ipykernel)",
   "language": "python",
   "name": "python3"
  },
  "language_info": {
   "codemirror_mode": {
    "name": "ipython",
    "version": 3
   },
   "file_extension": ".py",
   "mimetype": "text/x-python",
   "name": "python",
   "nbconvert_exporter": "python",
   "pygments_lexer": "ipython3",
   "version": "3.8.8"
  }
 },
 "nbformat": 4,
 "nbformat_minor": 5
}
