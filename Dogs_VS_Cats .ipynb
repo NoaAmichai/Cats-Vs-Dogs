{
 "cells": [
  {
   "cell_type": "code",
   "execution_count": 1,
   "id": "6e7aab06",
   "metadata": {},
   "outputs": [],
   "source": [
    "import pandas as pd\n",
    "import numpy as np\n",
    "import matplotlib.pyplot as plt\n",
    "import matplotlib_inline\n",
    "import os\n",
    "import warnings\n",
    "warnings.filterwarnings('ignore')\n",
    "from tqdm import tqdm \n",
    "import seaborn as sns\n",
    "from PIL import Image\n",
    "from numpy import asarray\n",
    "\n",
    "np.set_printoptions(precision=5)#show 5 number after decimal point "
   ]
  },
  {
   "cell_type": "code",
   "execution_count": 2,
   "id": "94a7e541",
   "metadata": {},
   "outputs": [],
   "source": [
    "from sklearn.metrics import classification_report\n",
    "from sklearn import metrics\n",
    "from sklearn.metrics import accuracy_score, precision_score, recall_score\n",
    "from sklearn.model_selection import cross_val_score\n",
    "from sklearn.model_selection import KFold"
   ]
  },
  {
   "cell_type": "code",
   "execution_count": 23,
   "id": "a1ac6ea7",
   "metadata": {},
   "outputs": [],
   "source": [
    "url = r\"train\\\\\""
   ]
  },
  {
   "cell_type": "code",
   "execution_count": 24,
   "id": "34035f0a",
   "metadata": {},
   "outputs": [],
   "source": [
    "def create_data():\n",
    "    data = list()\n",
    "    label = 0 #cat = 1 , dog = 0\n",
    "    for img in tqdm(os.listdir(url)):\n",
    "        if img.startswith('cat'): label = 1 \n",
    "        else :label = 0 \n",
    "        im = asarray(Image.open(url+img).resize((55,55)).convert('L')) #resize and changing colors\n",
    "        data.append([im,label])\n",
    "    np.save('data.npy', data)\n",
    "    return data"
   ]
  },
  {
   "cell_type": "code",
   "execution_count": 25,
   "id": "9e010216",
   "metadata": {},
   "outputs": [
    {
     "name": "stderr",
     "output_type": "stream",
     "text": [
      "100%|███████████████████████████████████████████████████████████████████████████| 25000/25000 [03:42<00:00, 112.35it/s]\n"
     ]
    }
   ],
   "source": [
    "data = create_data()"
   ]
  },
  {
   "cell_type": "code",
   "execution_count": 3,
   "id": "80add8ac",
   "metadata": {
    "slideshow": {
     "slide_type": "-"
    }
   },
   "outputs": [],
   "source": [
    "# load the data:\n",
    "data = np.load('data.npy',allow_pickle=True)"
   ]
  },
  {
   "cell_type": "code",
   "execution_count": 7,
   "id": "31950552",
   "metadata": {},
   "outputs": [],
   "source": [
    "from PIL import Image\n",
    "\n",
    "image = Image.open('')\n",
    "image.show()"
   ]
  },
  {
   "cell_type": "code",
   "execution_count": 14,
   "id": "958f810d",
   "metadata": {},
   "outputs": [
    {
     "data": {
      "image/jpeg": "[encoded data removed]",
      "text/plain": [
       "<IPython.core.display.Image object>"
      ]
     },
     "execution_count": 14,
     "metadata": {},
     "output_type": "execute_result"
    }
   ],
   "source": [
    "from IPython.display import display, Image\n",
    "Image(filename='train\\\\cat.3.jpg')\n",
    "Image(filename='train\\\\cat.8.jpg')\n"
   ]
  },
  {
   "cell_type": "code",
   "execution_count": 66,
   "id": "c48d9ccc",
   "metadata": {},
   "outputs": [],
   "source": [
    "X = (np.array([i[0] for i in data]))\n",
    "Y = (np.array([i[1] for i in data]))"
   ]
  },
  {
   "cell_type": "code",
   "execution_count": 67,
   "id": "f0e9d816",
   "metadata": {},
   "outputs": [],
   "source": [
    "X = X /255.0"
   ]
  },
  {
   "cell_type": "code",
   "execution_count": 68,
   "id": "5f9acdb7",
   "metadata": {},
   "outputs": [
    {
     "data": {
      "text/plain": [
       "(25000, 55, 55)"
      ]
     },
     "execution_count": 68,
     "metadata": {},
     "output_type": "execute_result"
    }
   ],
   "source": [
    "X.shape"
   ]
  },
  {
   "cell_type": "code",
   "execution_count": 69,
   "id": "3e3e0d5f",
   "metadata": {},
   "outputs": [
    {
     "data": {
      "text/plain": [
       "(25000, 3025)"
      ]
     },
     "execution_count": 69,
     "metadata": {},
     "output_type": "execute_result"
    }
   ],
   "source": [
    "X = X.reshape((25000, 55*55))\n",
    "X.shape"
   ]
  },
  {
   "cell_type": "code",
   "execution_count": 70,
   "id": "d45723a3",
   "metadata": {},
   "outputs": [],
   "source": [
    "from sklearn.model_selection import train_test_split\n",
    "\n",
    "#split the data to train and test \n",
    "X_train, X_test, y_train, y_test = train_test_split(X,Y, test_size=0.1, random_state=42)"
   ]
  },
  {
   "cell_type": "code",
   "execution_count": 71,
   "id": "1d0c8a8c",
   "metadata": {},
   "outputs": [],
   "source": [
    "#split the train\n",
    "X_train, X_val, y_train, y_val = train_test_split(X_train,y_train, test_size=0.1, random_state=42)"
   ]
  },
  {
   "cell_type": "code",
   "execution_count": 72,
   "id": "667ea03c",
   "metadata": {},
   "outputs": [
    {
     "name": "stdout",
     "output_type": "stream",
     "text": [
      "The DummyClassifier score is: 0.503\n"
     ]
    }
   ],
   "source": [
    "# Before we try real models, we will try a dummyClassifier. we will try to get high score than the dummyModel.\n",
    "from sklearn.dummy import DummyClassifier\n",
    "dummy_clf = DummyClassifier(strategy=\"most_frequent\", random_state=42)\n",
    "dummy_clf.fit(X_train, y_train)\n",
    "y_pred = dummy_clf.predict(X_val)\n",
    "print(\"The DummyClassifier score is:\" ,round(accuracy_score(y_pred,y_val),3))"
   ]
  },
  {
   "cell_type": "markdown",
   "id": "988c3bf8",
   "metadata": {},
   "source": [
    "## Models : \n"
   ]
  },
  {
   "cell_type": "markdown",
   "id": "9a22b586",
   "metadata": {},
   "source": [
    "### Feature selection: "
   ]
  },
  {
   "cell_type": "raw",
   "id": "fa6d8423",
   "metadata": {},
   "source": [
    "from sklearn.feature_selection import SelectKBest\n",
    "from sklearn.feature_selection import chi2\n",
    "from xgboost import XGBClassifier\n",
    "\n",
    "scores = [] \n",
    "for i in range(2000,3000,150):\n",
    "    X_new = SelectKBest(chi2, k=i).fit_transform(X_train, y_train)\n",
    "    X_train_new, X_val_new, y_train_new, y_val_new = train_test_split(X_new,y_train, test_size=0.1, random_state=42)\n",
    "    XGB = XGBClassifier(objective=\"binary:logistic\", random_state=42)\n",
    "    XGB.fit(X_train_new, y_train_new, eval_metric='auc')\n",
    "    y_predict = XGB.predict(X_val_new)\n",
    "    accuracy = round(metrics.accuracy_score(y_val_new, y_predict),3)\n",
    "    print(\"number of features : \", i, \", Accuracy:\", accuracy)\n",
    "    scores.append(accuracy)"
   ]
  },
  {
   "cell_type": "markdown",
   "id": "4ed8322d",
   "metadata": {},
   "source": [
    ">The best score of the model was with 2150 feature - We will use this number of features for the other models as well."
   ]
  },
  {
   "cell_type": "raw",
   "id": "92349d72",
   "metadata": {},
   "source": [
    "X_new = SelectKBest(chi2, k=2150).fit_transform(X_train, y_train)"
   ]
  },
  {
   "cell_type": "raw",
   "id": "8218518c",
   "metadata": {},
   "source": [
    "X_val_new = SelectKBest(chi2,k=2150).fit_transform(X_val,y_val)"
   ]
  },
  {
   "cell_type": "code",
   "execution_count": 73,
   "id": "ec4b240e",
   "metadata": {},
   "outputs": [
    {
     "data": {
      "text/plain": [
       "(20250, 3025)"
      ]
     },
     "execution_count": 73,
     "metadata": {},
     "output_type": "execute_result"
    }
   ],
   "source": [
    "X_train.shape"
   ]
  },
  {
   "cell_type": "raw",
   "id": "507f499f",
   "metadata": {},
   "source": [
    "X_val_new.shape"
   ]
  },
  {
   "cell_type": "markdown",
   "id": "eb847fcf",
   "metadata": {},
   "source": [
    "#### RandomForestClassifier :"
   ]
  },
  {
   "cell_type": "code",
   "execution_count": 74,
   "id": "ee052414",
   "metadata": {},
   "outputs": [
    {
     "name": "stdout",
     "output_type": "stream",
     "text": [
      "Accuracy: 0.642\n",
      "CPU times: total: 4min 6s\n",
      "Wall time: 4min 7s\n"
     ]
    }
   ],
   "source": [
    "%%time\n",
    "\n",
    "from sklearn.ensemble import RandomForestClassifier\n",
    "\n",
    "RF = RandomForestClassifier(random_state=42)\n",
    "RF.fit(X_train, y_train)\n",
    "y_pred_RF = RF.predict(X_val)\n",
    "accuracy = round(metrics.accuracy_score(y_pred_RF,y_val),3)\n",
    "print(\"Accuracy:\", accuracy)"
   ]
  },
  {
   "cell_type": "code",
   "execution_count": 75,
   "id": "632d6eec",
   "metadata": {
    "scrolled": true
   },
   "outputs": [
    {
     "name": "stdout",
     "output_type": "stream",
     "text": [
      "0.636\n",
      "CPU times: total: 6min 21s\n",
      "Wall time: 6min 22s\n"
     ]
    }
   ],
   "source": [
    "%%time\n",
    "from sklearn.ensemble import RandomForestClassifier\n",
    "\n",
    "kf= KFold(n_splits=3, random_state=42, shuffle=True)\n",
    "RForest = RandomForestClassifier(random_state=42)\n",
    "random_forest= cross_val_score(RForest, X_new,y_train, cv=kf, scoring='accuracy').mean()\n",
    "print(round(random_forest,3))"
   ]
  },
  {
   "cell_type": "markdown",
   "id": "b6fe7e35",
   "metadata": {},
   "source": [
    "##### XGBClassifier:"
   ]
  },
  {
   "cell_type": "code",
   "execution_count": 76,
   "id": "696a8858",
   "metadata": {},
   "outputs": [
    {
     "name": "stdout",
     "output_type": "stream",
     "text": [
      "Accuracy: 0.669\n",
      "CPU times: total: 20min 15s\n",
      "Wall time: 3min 1s\n"
     ]
    }
   ],
   "source": [
    "%%time\n",
    "\n",
    "from xgboost import XGBClassifier\n",
    "\n",
    "XGBoost = XGBClassifier(objective=\"binary:logistic\", random_state=42)\n",
    "XGBoost.fit(X_train, y_train, eval_metric='auc')\n",
    "y_pred_XGB = XGBoost.predict(X_val)\n",
    "\n",
    "accuracy = round(metrics.accuracy_score(y_val, y_pred_XGB),3)\n",
    "print(\"Accuracy:\", accuracy)"
   ]
  },
  {
   "cell_type": "code",
   "execution_count": 77,
   "id": "381b2235",
   "metadata": {},
   "outputs": [
    {
     "name": "stdout",
     "output_type": "stream",
     "text": [
      "[8.62666e-05 0.00000e+00 2.21149e-04 ... 4.92497e-04 5.31248e-04\n",
      " 1.47759e-03]\n"
     ]
    },
    {
     "data": {
      "image/png": "[encoded data removed]",
      "text/plain": [
       "<Figure size 432x288 with 1 Axes>"
      ]
     },
     "metadata": {
      "needs_background": "light"
     },
     "output_type": "display_data"
    }
   ],
   "source": [
    "from matplotlib import pyplot\n",
    "print(XGBoost.feature_importances_)\n",
    "# plot\n",
    "pyplot.bar(range(len(XGBoost.feature_importances_)), XGBoost.feature_importances_)\n",
    "pyplot.show()"
   ]
  },
  {
   "cell_type": "code",
   "execution_count": 78,
   "id": "d5aacb4c",
   "metadata": {},
   "outputs": [
    {
     "data": {
      "text/plain": [
       "0.0060928506"
      ]
     },
     "execution_count": 78,
     "metadata": {},
     "output_type": "execute_result"
    }
   ],
   "source": [
    "XGBoost.feature_importances_.max()"
   ]
  },
  {
   "cell_type": "code",
   "execution_count": 79,
   "id": "58b30ccc",
   "metadata": {
    "scrolled": true
   },
   "outputs": [
    {
     "data": {
      "image/png": "[encoded data removed]",
      "text/plain": [
       "<Figure size 432x288 with 2 Axes>"
      ]
     },
     "metadata": {
      "needs_background": "light"
     },
     "output_type": "display_data"
    }
   ],
   "source": [
    "from sklearn.metrics import confusion_matrix\n",
    "\n",
    "cf_matrix = confusion_matrix(y_val, y_pred_XGB)\n",
    "fig, ax = plt.subplots(figsize=(6,4))\n",
    "ax = sns.heatmap(cf_matrix, annot=True, fmt='', cmap='Greens')\n",
    "ax.set_title('Confusion Matrix\\n');\n",
    "ax.set_xlabel('\\nPredicted Values')\n",
    "ax.set_ylabel('Actual Values ');\n",
    "ax.xaxis.set_ticklabels([\"cat\",\"dog\"])\n",
    "ax.yaxis.set_ticklabels([\"cat\",\"dog\"],rotation=0)\n",
    "\n",
    "plt.show()"
   ]
  },
  {
   "cell_type": "code",
   "execution_count": 80,
   "id": "cdfb28df",
   "metadata": {},
   "outputs": [
    {
     "name": "stdout",
     "output_type": "stream",
     "text": [
      "0.6555061728395062\n",
      "CPU times: total: 1h 29min 56s\n",
      "Wall time: 13min 8s\n"
     ]
    }
   ],
   "source": [
    "%%time\n",
    "from xgboost import XGBClassifier\n",
    "from sklearn.feature_selection import SelectKBest\n",
    "\n",
    "kf= KFold(n_splits=5, random_state=42, shuffle=True)\n",
    "XGBClassifier = XGBClassifier(objective=\"binary:logistic\", random_state=42,eval_metric='auc')\n",
    "XGB = cross_val_score(XGBClassifier, X_train,y_train, cv=kf, scoring='accuracy').mean()\n",
    "print(XGB)"
   ]
  },
  {
   "cell_type": "markdown",
   "id": "ec19518e",
   "metadata": {},
   "source": [
    "#### AdaBoostClassifier"
   ]
  },
  {
   "cell_type": "code",
   "execution_count": 81,
   "id": "474add03",
   "metadata": {},
   "outputs": [
    {
     "name": "stdout",
     "output_type": "stream",
     "text": [
      "Accuracy: 0.601\n",
      "CPU times: total: 6min 24s\n",
      "Wall time: 6min 24s\n"
     ]
    }
   ],
   "source": [
    "%%time\n",
    "from sklearn.ensemble import AdaBoostClassifier\n",
    "\n",
    "AdB = AdaBoostClassifier()\n",
    "AdB.fit(X_train, y_train)\n",
    "y_pred = AdB.predict(X_val)\n",
    "\n",
    "accuracy = round(metrics.accuracy_score(y_val, y_pred),3)\n",
    "print(\"Accuracy:\", accuracy)\n",
    "#print(\"Classification Report: \\n\", metrics.classification_report(y_test, y_pred))"
   ]
  },
  {
   "cell_type": "code",
   "execution_count": 82,
   "id": "07c547fd",
   "metadata": {},
   "outputs": [
    {
     "name": "stdout",
     "output_type": "stream",
     "text": [
      "0.5813827160493826\n",
      "CPU times: total: 9min 17s\n",
      "Wall time: 9min 19s\n"
     ]
    }
   ],
   "source": [
    "%%time\n",
    "from sklearn.ensemble import AdaBoostClassifier\n",
    "\n",
    "kf= KFold(n_splits=3, random_state=42, shuffle=True)\n",
    "AdaBoost = AdaBoostClassifier()\n",
    "AdB = cross_val_score(AdaBoost, X_train,y_train, cv=kf, scoring='accuracy').mean()\n",
    "print(AdB)\n"
   ]
  },
  {
   "cell_type": "markdown",
   "id": "724c60c7",
   "metadata": {},
   "source": [
    "### GradientBoostingClassifier"
   ]
  },
  {
   "cell_type": "code",
   "execution_count": 83,
   "id": "1fe9d946",
   "metadata": {},
   "outputs": [
    {
     "name": "stdout",
     "output_type": "stream",
     "text": [
      "      Iter       Train Loss   Remaining Time \n",
      "         1           1.3795           25.98m\n",
      "         2           1.3731           25.17m\n",
      "         3           1.3676           24.98m\n",
      "         4           1.3624           24.75m\n",
      "         5           1.3575           24.57m\n",
      "         6           1.3532           24.39m\n",
      "         7           1.3484           24.00m\n",
      "         8           1.3444           23.72m\n",
      "         9           1.3397           23.50m\n",
      "        10           1.3365           23.26m\n",
      "        20           1.3048           20.69m\n",
      "        30           1.2798           17.98m\n",
      "        40           1.2608           15.31m\n",
      "        50           1.2447           12.70m\n",
      "        60           1.2292           10.18m\n",
      "        70           1.2160            7.64m\n",
      "        80           1.2028            5.08m\n",
      "        90           1.1910            2.55m\n",
      "       100           1.1777            0.00s\n",
      "Accuracy: 0.653\n"
     ]
    }
   ],
   "source": [
    "from sklearn.ensemble import GradientBoostingClassifier\n",
    "\n",
    "GBC = GradientBoostingClassifier(verbose=1).fit(X_train, y_train)\n",
    "y_pred = GBC.predict(X_val)\n",
    "\n",
    "accuracy = round(metrics.accuracy_score(y_val, y_pred),3)\n",
    "print(\"Accuracy:\", accuracy)\n",
    "#print(\"Classification Report: \\n\", metrics.classification_report(y_test, y_pred))    "
   ]
  },
  {
   "cell_type": "markdown",
   "id": "3c6acfae",
   "metadata": {},
   "source": [
    "### Hyperparameter Tuning: "
   ]
  },
  {
   "cell_type": "code",
   "execution_count": 84,
   "id": "201e8212",
   "metadata": {},
   "outputs": [],
   "source": [
    "#Searching for better performance out of the models with RandomizedSearch\n",
    "from sklearn.model_selection import RandomizedSearchCV"
   ]
  },
  {
   "cell_type": "code",
   "execution_count": 85,
   "id": "947a21ee",
   "metadata": {},
   "outputs": [
    {
     "name": "stdout",
     "output_type": "stream",
     "text": [
      "Fitting 3 folds for each of 10 candidates, totalling 30 fits\n",
      "Accuracy Score =  0.675\n",
      "{'subsample': 1, 'n_estimators': 200, 'min_child_weight': 1, 'max_depth': 10, 'learning_rate': 0.03, 'colsample_bytree': 0.7}\n"
     ]
    }
   ],
   "source": [
    "#XGBClassifier\n",
    "from xgboost import XGBClassifier\n",
    "parameters = {\n",
    "        'learning_rate': [ 0.1,0.3,0.03],\n",
    "        'max_depth': [5,6,10],\n",
    "        'min_child_weight': [1, 2],\n",
    "        'subsample': [0.5,0.6,1],\n",
    "        'colsample_bytree': [0.3,0.5, 0.7],\n",
    "        'n_estimators' : [100,150,170,200]\n",
    "         }\n",
    "\n",
    "random_XGB = RandomizedSearchCV(XGBClassifier(),parameters, verbose=True, \n",
    "                          cv=3,random_state=42, return_train_score=True)\n",
    "random_XGB.fit(X_train,y_train, eval_metric='auc')\n",
    "y_pred_XGB_random = random_XGB.predict(X_val)\n",
    "print (\"Accuracy Score = \",round(metrics.accuracy_score(y_val,y_pred_XGB_random),3))\n",
    "print (random_XGB.best_params_)"
   ]
  },
  {
   "cell_type": "code",
   "execution_count": 86,
   "id": "9d3525d4",
   "metadata": {},
   "outputs": [
    {
     "data": {
      "text/plain": [
       "{'subsample': 1,\n",
       " 'n_estimators': 200,\n",
       " 'min_child_weight': 1,\n",
       " 'max_depth': 10,\n",
       " 'learning_rate': 0.03,\n",
       " 'colsample_bytree': 0.7}"
      ]
     },
     "execution_count": 86,
     "metadata": {},
     "output_type": "execute_result"
    }
   ],
   "source": [
    "random_XGB.best_params_"
   ]
  },
  {
   "cell_type": "code",
   "execution_count": null,
   "id": "4aca559a",
   "metadata": {},
   "outputs": [],
   "source": []
  }
 ],
 "metadata": {
  "kernelspec": {
   "display_name": "Python 3 (ipykernel)",
   "language": "python",
   "name": "python3"
  },
  "language_info": {
   "codemirror_mode": {
    "name": "ipython",
    "version": 3
   },
   "file_extension": ".py",
   "mimetype": "text/x-python",
   "name": "python",
   "nbconvert_exporter": "python",
   "pygments_lexer": "ipython3",
   "version": "3.9.12"
  }
 },
 "nbformat": 4,
 "nbformat_minor": 5
}
